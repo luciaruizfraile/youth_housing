{
 "cells": [
  {
   "cell_type": "markdown",
   "id": "90e2d129",
   "metadata": {},
   "source": [
    "# Dataset Maestro por CCAA (salario mediano Decil 5)"
   ]
  },
  {
   "cell_type": "code",
   "execution_count": 52,
   "id": "afd9bd08",
   "metadata": {},
   "outputs": [],
   "source": [
    "import pandas as pd\n",
    "\n",
    "# Lectura de archivos CSV\n",
    "precios_df = pd.read_csv(\"../data/clean/precios_sql.csv\")\n",
    "salario_ccaa_df = pd.read_csv(\"../data/clean/salario_ccaa_sql.csv\")\n",
    "superficie_df = pd.read_csv(\"../data/clean/superficie_extendida.csv\")\n",
    "interes_df = pd.read_csv(\"../data/clean/interes_fijo_sql.csv\")"
   ]
  },
  {
   "cell_type": "code",
   "execution_count": 24,
   "id": "ab4c88cc",
   "metadata": {},
   "outputs": [],
   "source": [
    "# Filtrar salario por comunidad autónoma: decil 5 y jornada Total (excluyendo Total Nacional)\n",
    "salario_ccaa_filtered = salario_ccaa_df[\n",
    "    (salario_ccaa_df['tipo_de_jornada'] == 'Total') &\n",
    "    (salario_ccaa_df['decil'] == '5') &\n",
    "    (salario_ccaa_df['comunidades_y_ciudades_autónomas'] != 'Total Nacional')\n",
    "].copy()\n",
    "salario_ccaa_filtered.rename(columns={\n",
    "    'comunidades_y_ciudades_autónomas': 'region',\n",
    "    'año': 'year',\n",
    "    'total': 'salario_mensual'\n",
    "}, inplace=True)\n",
    "salario_ccaa_filtered = salario_ccaa_filtered[['region', 'year', 'salario_mensual']]\n",
    "\n",
    "\n"
   ]
  },
  {
   "cell_type": "code",
   "execution_count": 25,
   "id": "bc15ed40",
   "metadata": {},
   "outputs": [],
   "source": [
    "# Calcular interés medio anual (tipo fijo, naturaleza Vivienda)\n",
    "interes_filtered = interes_df[\n",
    "    (interes_df['tipo_de_interés'] == 'Fijo') &\n",
    "    (interes_df['naturaleza_de_la_finca'] == 'Viviendas')\n",
    "]\n",
    "interest_by_year = interes_filtered.groupby('año', as_index=False)['total'].mean()\n",
    "interest_by_year.rename(columns={'año': 'year', 'total': 'interes_medio'}, inplace=True)\n",
    "\n",
    "# Calcular superficie útil promedio por comunidad (m²) a partir de la distribución de tamaños de vivienda\n",
    "# Mapeo de categorías de superficie a valores representativos en m²\n",
    "categoria_a_m2 = {\n",
    "    'Menos de 46 m2': 40,\n",
    "    'Entre 46 y 75 m2': 60,\n",
    "    'Entre 76 y 105 m2': 90,\n",
    "    'Entre 106 y 150 m2': 128,\n",
    "    'Más de 150 m2': 180\n",
    "}\n"
   ]
  },
  {
   "cell_type": "code",
   "execution_count": 26,
   "id": "18cbff15",
   "metadata": {},
   "outputs": [
    {
     "name": "stderr",
     "output_type": "stream",
     "text": [
      "/var/folders/4q/413qpbj17ks9bgdzl52cpx9m0000gn/T/ipykernel_4797/3991255381.py:8: DeprecationWarning: DataFrameGroupBy.apply operated on the grouping columns. This behavior is deprecated, and in a future version of pandas the grouping columns will be excluded from the operation. Either pass `include_groups=False` to exclude the groupings or explicitly select the grouping columns after groupby to silence this warning.\n",
      "  superficie_avg = sup_filt.groupby(['comunidades_y_ciudades_autónomas', 'año']).apply(\n"
     ]
    }
   ],
   "source": [
    "# Filtrar datos de superficie para tamaño_hogar Total, excluyendo la fila 'Total' consolidada\n",
    "sup_filt = superficie_df[\n",
    "    (superficie_df['tamaño_hogar'] == 'Total') & \n",
    "    (superficie_df['superficie_util'] != 'Total')\n",
    "].copy()\n",
    "sup_filt['rep_area'] = sup_filt['superficie_util'].map(categoria_a_m2)\n",
    "# Calcular promedio ponderado de superficie por comunidad y año\n",
    "superficie_avg = sup_filt.groupby(['comunidades_y_ciudades_autónomas', 'año']).apply(\n",
    "    lambda g: pd.Series({\n",
    "        'superficie_util': (g['rep_area'] * g['total']).sum() / g['total'].sum()\n",
    "    })\n",
    ").reset_index()\n",
    "superficie_avg.rename(columns={\n",
    "    'comunidades_y_ciudades_autónomas': 'region',\n",
    "    'año': 'year'\n",
    "}, inplace=True)\n"
   ]
  },
  {
   "cell_type": "code",
   "execution_count": 27,
   "id": "123a58d4",
   "metadata": {},
   "outputs": [],
   "source": [
    "\n",
    "# Preparar datos de precios por m² (renombrar columnas para facilitar merge)\n",
    "precios_df.rename(columns={'comunidades_y_ciudades_autónomas': 'region', 'año': 'year'}, inplace=True)"
   ]
  },
  {
   "cell_type": "code",
   "execution_count": 28,
   "id": "8a55a0e0",
   "metadata": {},
   "outputs": [],
   "source": [
    "# Unir todos los datos a nivel comunidad autónoma y año\n",
    "dataset1 = precios_df.merge(salario_ccaa_filtered, on=['region', 'year'], how='inner')\n",
    "dataset1 = dataset1.merge(superficie_avg, on=['region', 'year'], how='inner')\n",
    "dataset1 = dataset1.merge(interest_by_year, on='year', how='inner')"
   ]
  },
  {
   "cell_type": "code",
   "execution_count": 29,
   "id": "185fe64a",
   "metadata": {},
   "outputs": [],
   "source": [
    "# Calcular columnas derivadas\n",
    "dataset1['esfuerzo_m2'] = dataset1['precio_m2'] / dataset1['salario_mensual']\n",
    "dataset1['metros_posibles'] = dataset1['salario_mensual'] / dataset1['precio_m2']\n",
    "dataset1['superficie_cubierta_pct'] = dataset1['metros_posibles'] / dataset1['superficie_util']\n"
   ]
  },
  {
   "cell_type": "code",
   "execution_count": 30,
   "id": "d75c512c",
   "metadata": {},
   "outputs": [],
   "source": [
    "# Ordenar por región y año, y guardar resultado\n",
    "#dataset1.sort_values(['region', 'year'], inplace=True)\n",
    "#dataset1.to_csv(\"dataset_maestro_ccaa.csv\", index=False)"
   ]
  },
  {
   "cell_type": "markdown",
   "id": "563816c2",
   "metadata": {},
   "source": [
    "# Dataset maestro por grupos de Edad (salario mediano Decil 5)"
   ]
  },
  {
   "cell_type": "code",
   "execution_count": 27,
   "id": "9ba1670b",
   "metadata": {},
   "outputs": [],
   "source": [
    "# Lectura de archivo de salarios por edad\n",
    "salario_edad_df = pd.read_csv(\"../data/clean/salario_edad_sql.csv\")\n",
    "\n",
    "# Filtrar salario por grupo de edad: decil 5 y jornada Total (excluyendo grupo \"Total\")\n",
    "salario_edad_filtered = salario_edad_df[\n",
    "    (salario_edad_df['tipo_de_jornada'] == 'Total') &\n",
    "    (salario_edad_df['decil'] == '5') &\n",
    "    (salario_edad_df['grupo_de_edad'] != 'Total')\n",
    "].copy()\n",
    "salario_edad_filtered.rename(columns={\n",
    "    'grupo_de_edad': 'grupo_edad',\n",
    "    'año': 'year',\n",
    "    'total': 'salario_mensual'\n",
    "}, inplace=True)\n",
    "salario_edad_filtered = salario_edad_filtered[['grupo_edad', 'year', 'salario_mensual']]\n",
    "\n",
    "# Calcular precio medio nacional por m² para cada año\n",
    "precio_nac = precios_df.groupby('year', as_index=False)['precio_m2'].mean()\n",
    "precio_nac.rename(columns={'precio_m2': 'precio_m2_nacional'}, inplace=True)\n",
    "\n",
    "# Unir datos a nivel grupo de edad y año\n",
    "dataset2 = salario_edad_filtered.merge(precio_nac, on='year', how='inner')\n",
    "dataset2 = dataset2.merge(interest_by_year, on='year', how='inner')\n",
    "\n",
    "# Calcular columnas derivadas\n",
    "dataset2['metros_posibles'] = dataset2['salario_mensual'] / dataset2['precio_m2_nacional']\n",
    "dataset2['esfuerzo_m2'] = dataset2['precio_m2_nacional'] / dataset2['salario_mensual']\n",
    "\n",
    "\n"
   ]
  },
  {
   "cell_type": "code",
   "execution_count": null,
   "id": "c7a0d28a",
   "metadata": {},
   "outputs": [],
   "source": [
    "# Ordenar por año y grupo de edad, y guardar resultado\n",
    "#dataset2.sort_values(['year', 'grupo_edad'], inplace=True)\n",
    "#dataset2.to_csv(\"dataset_maestro_edad.csv\", index=False)"
   ]
  },
  {
   "cell_type": "markdown",
   "id": "242f6054",
   "metadata": {},
   "source": [
    "# Datasets Maestro por decil total (promedio más real)"
   ]
  },
  {
   "cell_type": "code",
   "execution_count": 53,
   "id": "39bc97a3",
   "metadata": {},
   "outputs": [],
   "source": [
    "# Filtrar salario por comunidad autónoma: decil 5 y jornada Total (excluyendo Total Nacional)\n",
    "salario_ccaa_total = salario_ccaa_df[\n",
    "    (salario_ccaa_df['tipo_de_jornada'] == 'Total') &\n",
    "    (salario_ccaa_df['decil'] == 'Total decil') &\n",
    "    (salario_ccaa_df['comunidades_y_ciudades_autónomas'] != 'Total Nacional')\n",
    "].copy()\n",
    "salario_ccaa_total.rename(columns={\n",
    "    'comunidades_y_ciudades_autónomas': 'region',\n",
    "    'año': 'year',\n",
    "    'total': 'salario_mensual'\n",
    "}, inplace=True)\n",
    "salario_ccaa_total = salario_ccaa_total[['region', 'year', 'salario_mensual']]\n",
    "\n"
   ]
  },
  {
   "cell_type": "code",
   "execution_count": 54,
   "id": "de8b8354",
   "metadata": {},
   "outputs": [],
   "source": [
    "# Calcular interés medio anual (tipo fijo, naturaleza Vivienda)\n",
    "interes_total = interes_df[\n",
    "    (interes_df['tipo_de_interés'] == 'Fijo') &\n",
    "    (interes_df['naturaleza_de_la_finca'] == 'Viviendas')\n",
    "]\n",
    "interest_by_year_total = interes_total.groupby('año', as_index=False)['total'].mean()\n",
    "interest_by_year_total.rename(columns={'año': 'year', 'total': 'interes_medio'}, inplace=True)\n",
    "\n",
    "# Calcular superficie útil promedio por comunidad (m²) a partir de la distribución de tamaños de vivienda\n",
    "# Mapeo de categorías de superficie a valores representativos en m²\n",
    "categoria_a_m2_total = {\n",
    "    'Menos de 46 m2': 40,\n",
    "    'Entre 46 y 75 m2': 60,\n",
    "    'Entre 76 y 105 m2': 90,\n",
    "    'Entre 106 y 150 m2': 128,\n",
    "    'Más de 150 m2': 180\n",
    "}"
   ]
  },
  {
   "cell_type": "code",
   "execution_count": 55,
   "id": "f7bd6e64",
   "metadata": {},
   "outputs": [
    {
     "name": "stderr",
     "output_type": "stream",
     "text": [
      "/var/folders/4q/413qpbj17ks9bgdzl52cpx9m0000gn/T/ipykernel_4797/1437185042.py:8: DeprecationWarning: DataFrameGroupBy.apply operated on the grouping columns. This behavior is deprecated, and in a future version of pandas the grouping columns will be excluded from the operation. Either pass `include_groups=False` to exclude the groupings or explicitly select the grouping columns after groupby to silence this warning.\n",
      "  superficie_avg_total = sup_filt_total.groupby(['comunidades_y_ciudades_autónomas', 'año']).apply(\n"
     ]
    }
   ],
   "source": [
    "# Filtrar datos de superficie para tamaño_hogar Total, excluyendo la fila 'Total' consolidada\n",
    "sup_filt_total = superficie_df[\n",
    "    (superficie_df['tamaño_hogar'] == 'Total') & \n",
    "    (superficie_df['superficie_util'] != 'Total')\n",
    "].copy()\n",
    "sup_filt_total['rep_area'] = sup_filt_total['superficie_util'].map(categoria_a_m2)\n",
    "# Calcular promedio ponderado de superficie por comunidad y año\n",
    "superficie_avg_total = sup_filt_total.groupby(['comunidades_y_ciudades_autónomas', 'año']).apply(\n",
    "    lambda g: pd.Series({\n",
    "        'superficie_util': (g['rep_area'] * g['total']).sum() / g['total'].sum()\n",
    "    })\n",
    ").reset_index()\n",
    "superficie_avg_total.rename(columns={\n",
    "    'comunidades_y_ciudades_autónomas': 'region',\n",
    "    'año': 'year'\n",
    "}, inplace=True)\n"
   ]
  },
  {
   "cell_type": "code",
   "execution_count": 56,
   "id": "544fd38c",
   "metadata": {},
   "outputs": [],
   "source": [
    "\n",
    "# Preparar datos de precios por m² (renombrar columnas para facilitar merge)\n",
    "precios_df.rename(columns={'comunidades_y_ciudades_autónomas': 'region', 'año': 'year'}, inplace=True)"
   ]
  },
  {
   "cell_type": "code",
   "execution_count": 57,
   "id": "b5f24ce8",
   "metadata": {},
   "outputs": [],
   "source": [
    "# Unir todos los datos a nivel comunidad autónoma y año\n",
    "dataset1_total = precios_df.merge(salario_ccaa_filtered, on=['region', 'year'], how='inner')\n",
    "dataset1_total = dataset1_total.merge(superficie_avg, on=['region', 'year'], how='inner')\n",
    "dataset1_total = dataset1_total.merge(interest_by_year, on='year', how='inner')"
   ]
  },
  {
   "cell_type": "code",
   "execution_count": 58,
   "id": "538c610e",
   "metadata": {},
   "outputs": [],
   "source": [
    "# Calcular columnas derivadas\n",
    "dataset1_total['esfuerzo_m2'] = dataset1_total['precio_m2'] / dataset1_total['salario_mensual']\n",
    "dataset1_total['metros_posibles'] = dataset1_total['salario_mensual'] / dataset1_total['precio_m2']\n",
    "dataset1_total['superficie_cubierta_pct'] = dataset1_total['metros_posibles'] / dataset1_total['superficie_util']\n"
   ]
  },
  {
   "cell_type": "code",
   "execution_count": null,
   "id": "e37edd3e",
   "metadata": {},
   "outputs": [],
   "source": [
    "# Ordenar por región y año, y guardar resultado\n",
    "#dataset1_total.sort_values(['region', 'year'], inplace=True)\n",
    "#dataset1_total.to_csv(\"dataset_total_maestro_ccaa.csv\", index=False)"
   ]
  },
  {
   "cell_type": "markdown",
   "id": "b00279c0",
   "metadata": {},
   "source": [
    "### dataset total decil de edad"
   ]
  },
  {
   "cell_type": "code",
   "execution_count": 60,
   "id": "2d742478",
   "metadata": {},
   "outputs": [],
   "source": [
    "# Lectura de archivo de salarios por edad\n",
    "salario_edad_df_total = pd.read_csv(\"../data/clean/salario_edad_sql.csv\")\n",
    "\n",
    "# Filtrar salario por grupo de edad: decil 5 y jornada Total (excluyendo grupo \"Total\")\n",
    "salario_edad_filtered_total = salario_edad_df_total[\n",
    "    (salario_edad_df_total['tipo_de_jornada'] == 'Total') &\n",
    "    (salario_edad_df_total['decil'] == '5') &\n",
    "    (salario_edad_df_total['grupo_de_edad'] != 'Total')\n",
    "].copy()\n",
    "salario_edad_filtered_total.rename(columns={\n",
    "    'grupo_de_edad': 'grupo_edad',\n",
    "    'año': 'year',\n",
    "    'total': 'salario_mensual'\n",
    "}, inplace=True)\n",
    "salario_edad_filtered_total = salario_edad_filtered_total[['grupo_edad', 'year', 'salario_mensual']]\n",
    "\n",
    "# Calcular precio medio nacional por m² para cada año\n",
    "precio_nac = precios_df.groupby('year', as_index=False)['precio_m2'].mean()\n",
    "precio_nac.rename(columns={'precio_m2': 'precio_m2_nacional'}, inplace=True)\n",
    "\n",
    "# Unir datos a nivel grupo de edad y año\n",
    "dataset2_total = salario_edad_filtered_total.merge(precio_nac, on='year', how='inner')\n",
    "dataset2_total = dataset2_total.merge(interest_by_year, on='year', how='inner')\n",
    "\n",
    "# Calcular columnas derivadas\n",
    "dataset2_total['metros_posibles'] = dataset2_total['salario_mensual'] / dataset2_total['precio_m2_nacional']\n",
    "dataset2_total['esfuerzo_m2'] = dataset2_total['precio_m2_nacional'] / dataset2_total['salario_mensual']\n",
    "\n",
    "\n"
   ]
  },
  {
   "cell_type": "code",
   "execution_count": null,
   "id": "4037209b",
   "metadata": {},
   "outputs": [],
   "source": [
    "# Ordenar por año y grupo de edad, y guardar resultado\n",
    "#dataset2_total.sort_values(['year', 'grupo_edad'], inplace=True)\n",
    "#dataset2_total.to_csv(\"../data/clean/dataset_total_maestro_edad.csv\", index=False)"
   ]
  }
 ],
 "metadata": {
  "kernelspec": {
   "display_name": "base",
   "language": "python",
   "name": "python3"
  },
  "language_info": {
   "codemirror_mode": {
    "name": "ipython",
    "version": 3
   },
   "file_extension": ".py",
   "mimetype": "text/x-python",
   "name": "python",
   "nbconvert_exporter": "python",
   "pygments_lexer": "ipython3",
   "version": "3.12.7"
  }
 },
 "nbformat": 4,
 "nbformat_minor": 5
}
