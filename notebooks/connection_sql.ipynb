{
 "cells": [
  {
   "cell_type": "code",
   "execution_count": 4,
   "id": "2f080735",
   "metadata": {},
   "outputs": [
    {
     "name": "stdout",
     "output_type": "stream",
     "text": [
      "Requirement already satisfied: sqlalchemy in /opt/anaconda3/lib/python3.12/site-packages (2.0.41)\n",
      "Requirement already satisfied: pymysql in /opt/anaconda3/lib/python3.12/site-packages (1.1.1)\n",
      "Requirement already satisfied: typing-extensions>=4.6.0 in /opt/anaconda3/lib/python3.12/site-packages (from sqlalchemy) (4.11.0)\n",
      "Note: you may need to restart the kernel to use updated packages.\n"
     ]
    }
   ],
   "source": [
    "pip install sqlalchemy pymysql\n"
   ]
  },
  {
   "cell_type": "code",
   "execution_count": 5,
   "id": "ba3109f5",
   "metadata": {},
   "outputs": [],
   "source": [
    "from sqlalchemy import create_engine\n",
    "\n",
    "# Reemplaza estos valores por los tuyos\n",
    "\n",
    "user = 'root'\n",
    "password = 'isabelyluis'\n",
    "host = 'localhost'\n",
    "port = 3306\n",
    "database = 'youth_housing'\n",
    "\n",
    "# Crear conexión\n",
    "engine = create_engine(f'mysql+pymysql://{user}:{\"isabelyluis\"}@{host}:{port}/{\"youth_housing\"}')\n"
   ]
  },
  {
   "cell_type": "code",
   "execution_count": 6,
   "id": "9badd58e",
   "metadata": {},
   "outputs": [
    {
     "name": "stdout",
     "output_type": "stream",
     "text": [
      "✅ Subida completada: precios\n",
      "✅ Subida completada: interes_fijo\n",
      "✅ Subida completada: ipv\n",
      "✅ Subida completada: salario_ccaa\n",
      "✅ Subida completada: salario_edad\n",
      "✅ Subida completada: superficie\n"
     ]
    }
   ],
   "source": [
    "import pandas as pd\n",
    "\n",
    "csvs = {\n",
    "    \"precios\": \"../data/clean/precios_sql.csv\",\n",
    "    \"interes_fijo\": \"../data/clean/interes_fijo_sql.csv\",\n",
    "    \"ipv\": \"../data/clean/ipv.csv\",\n",
    "    \"salario_ccaa\": \"../data/clean/salario_ccaa_sql.csv\",\n",
    "    \"salario_edad\": \"../data/clean/salario_edad_sql.csv\",\n",
    "    \"superficie\": \"../data/clean/superficie_sql.csv\"\n",
    "}\n",
    "\n",
    "# Subir cada CSV como tabla\n",
    "for tabla, archivo in csvs.items():\n",
    "    df = pd.read_csv(archivo)\n",
    "    df.to_sql(tabla, con=engine, if_exists=\"replace\", index=False)\n",
    "    print(f\"✅ Subida completada: {tabla}\")"
   ]
  }
 ],
 "metadata": {
  "kernelspec": {
   "display_name": "base",
   "language": "python",
   "name": "python3"
  },
  "language_info": {
   "codemirror_mode": {
    "name": "ipython",
    "version": 3
   },
   "file_extension": ".py",
   "mimetype": "text/x-python",
   "name": "python",
   "nbconvert_exporter": "python",
   "pygments_lexer": "ipython3",
   "version": "3.12.7"
  }
 },
 "nbformat": 4,
 "nbformat_minor": 5
}
