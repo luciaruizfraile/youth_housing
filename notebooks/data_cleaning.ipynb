{
 "cells": [
  {
   "cell_type": "code",
   "execution_count": null,
   "id": "b369549b",
   "metadata": {},
   "outputs": [],
   "source": [
    "from pathlib import Path\n",
    "import pandas as pd\n",
    "import sys \n",
    "import os\n",
    "\n",
    "# Definir la ruta base\n",
    "data_path = Path('..') / 'data' / 'raw'\n",
    "src_path = Path('..') / 'src' \n",
    "\n",
    "sys.path.append(str(src_path))\n",
    "from notebooks.data_cleaning_utils import *\n",
    "\n",
    "# Leer los archivos\n",
    "# Probar con diferentes separadores y encoding\n",
    "salario_edad = pd.read_csv(data_path / 'salario_medio bruto_edad.csv', \n",
    "                  sep=';',  # Muchos CSVs españoles usan punto y coma\n",
    "                  encoding='utf-8')\n",
    "\n",
    "salario_comunidad = pd.read_csv(data_path / 'salario_medio_bruto_comunidad.csv',\n",
    "                  sep=';',\n",
    "                  encoding='utf-8')\n",
    "\n",
    "ipv = pd.read_csv(data_path / 'ipv historico.csv',\n",
    "                  sep=';',\n",
    "                  encoding='utf-8')\n",
    "\n",
    "superficie_media = pd.read_csv(data_path / 'superficie util vivienda valor medio del periodo.csv',\n",
    "                  sep=';',\n",
    "                  encoding='utf-8')\n",
    "\n",
    "interes_fijo = pd.read_csv(data_path / 'tipo interes medio inicio hipotecas constituidas fijo o variable.csv',\n",
    "                  sep=';',\n",
    "                  encoding='utf-8')\n",
    "idealista_excel = pd.read_excel(data_path / 'Copia_idealista_metros_cuadrados.xlsx')\n"
   ]
  },
  {
   "cell_type": "markdown",
   "id": "a340a997",
   "metadata": {},
   "source": [
    "# EXPLORACIÓN INICIAL DE DATASETS PARA ANÁLISIS HIPOTECARIO"
   ]
  },
  {
   "cell_type": "code",
   "execution_count": 2,
   "id": "90d51327",
   "metadata": {},
   "outputs": [],
   "source": [
    "# Diccionario de datasets para iterar\n",
    "datasets = {\n",
    "    'Salarios por Edad': salario_edad,\n",
    "    'Salarios por Comunidad': salario_comunidad, \n",
    "    'IPV Histórico': ipv,\n",
    "    'Excel Idealista' : idealista_excel,\n",
    "    'Superficie Media': superficie_media,\n",
    "    'Tipos Interés': interes_fijo\n",
    "}"
   ]
  },
  {
   "cell_type": "code",
   "execution_count": 3,
   "id": "1df84d8c",
   "metadata": {},
   "outputs": [
    {
     "name": "stdout",
     "output_type": "stream",
     "text": [
      "DATASET: Salarios por Edad\n",
      "Shape: (3564, 5)\n",
      "Columnas: ['Tipo de jornada', 'Grupo de edad', 'Decil', 'Periodo', 'Total']\n",
      "Primeras 3 filas:\n",
      "  Tipo de jornada Grupo de edad        Decil  Periodo     Total\n",
      "0           Total         Total  Total decil     2023  2.273,01\n",
      "1           Total         Total  Total decil     2022  2.118,79\n",
      "2           Total         Total  Total decil     2021  2.076,45\n",
      "Tipos de datos:\n",
      "Tipo de jornada    object\n",
      "Grupo de edad      object\n",
      "Decil              object\n",
      "Periodo             int64\n",
      "Total              object\n",
      "dtype: object\n",
      "Valores nulos por columna:\n",
      "Tipo de jornada    0\n",
      "Grupo de edad      0\n",
      "Decil              0\n",
      "Periodo            0\n",
      "Total              0\n",
      "dtype: int64\n",
      "------------------------------------------------------------\n",
      "DATASET: Salarios por Comunidad\n",
      "Shape: (11880, 5)\n",
      "Columnas: ['Tipo de jornada', 'Comunidades y Ciudades Autonómas', 'Decil', 'Periodo', 'Total']\n",
      "Primeras 3 filas:\n",
      "  Tipo de jornada Comunidades y Ciudades Autonómas        Decil  Periodo  \\\n",
      "0           Total                   Total Nacional  Total decil     2023   \n",
      "1           Total                   Total Nacional  Total decil     2022   \n",
      "2           Total                   Total Nacional  Total decil     2021   \n",
      "\n",
      "      Total  \n",
      "0  2.273,01  \n",
      "1  2.118,79  \n",
      "2  2.076,45  \n",
      "Tipos de datos:\n",
      "Tipo de jornada                     object\n",
      "Comunidades y Ciudades Autonómas    object\n",
      "Decil                               object\n",
      "Periodo                              int64\n",
      "Total                               object\n",
      "dtype: object\n",
      "Valores nulos por columna:\n",
      "Tipo de jornada                     0\n",
      "Comunidades y Ciudades Autonómas    0\n",
      "Decil                               0\n",
      "Periodo                             0\n",
      "Total                               0\n",
      "dtype: int64\n",
      "------------------------------------------------------------\n",
      "DATASET: IPV Histórico\n",
      "Shape: (17520, 6)\n",
      "Columnas: ['Total Nacional', 'Comunidades y Ciudades Autónomas', 'General, vivienda nueva y de segunda mano', 'Índices y tasas', 'Periodo', 'Total']\n",
      "Primeras 3 filas:\n",
      "  Total Nacional Comunidades y Ciudades Autónomas  \\\n",
      "0       Nacional                              NaN   \n",
      "1       Nacional                              NaN   \n",
      "2       Nacional                              NaN   \n",
      "\n",
      "  General, vivienda nueva y de segunda mano Índices y tasas Periodo    Total  \n",
      "0                                   General          Índice  2025T1  171,296  \n",
      "1                                   General          Índice  2024T4  165,433  \n",
      "2                                   General          Índice  2024T3  162,521  \n",
      "Tipos de datos:\n",
      "Total Nacional                               object\n",
      "Comunidades y Ciudades Autónomas             object\n",
      "General, vivienda nueva y de segunda mano    object\n",
      "Índices y tasas                              object\n",
      "Periodo                                      object\n",
      "Total                                        object\n",
      "dtype: object\n",
      "Valores nulos por columna:\n",
      "Total Nacional                                  0\n",
      "Comunidades y Ciudades Autónomas              876\n",
      "General, vivienda nueva y de segunda mano       0\n",
      "Índices y tasas                                 0\n",
      "Periodo                                         0\n",
      "Total                                        1168\n",
      "dtype: int64\n",
      "------------------------------------------------------------\n",
      "DATASET: Excel Idealista\n",
      "Shape: (114, 8)\n",
      "Columnas: ['Comunidades y Ciudades Autonómas', 'Precio€/m2', 'Variación mensual', 'Variación trimestral', 'Variación anual', 'Máximo histórico', 'Variación máximo', 'Año']\n",
      "Primeras 3 filas:\n",
      "  Comunidades y Ciudades Autonómas  Precio€/m2 Variación mensual  \\\n",
      "0                        Andalucía  2.468 €/m2             0.018   \n",
      "1                           Aragón  1.469 €/m2           - 0,2 %   \n",
      "2                         Asturias  1.538 €/m2             0.017   \n",
      "\n",
      "  Variación trimestral Variación anual      Máximo histórico Variación máximo  \\\n",
      "0                0.053           0.143  2.468 €/m2 mayo 2025            0,0 %   \n",
      "1                0.029           0.028   2.008 €/m2 mar 2007         - 26,8 %   \n",
      "2                0.054           0.109   1.867 €/m2 abr 2008         - 17,6 %   \n",
      "\n",
      "    Año  \n",
      "0  2025  \n",
      "1  2025  \n",
      "2  2025  \n",
      "Tipos de datos:\n",
      "Comunidades y Ciudades Autonómas    object\n",
      "Precio€/m2                          object\n",
      "Variación mensual                   object\n",
      "Variación trimestral                object\n",
      "Variación anual                     object\n",
      "Máximo histórico                    object\n",
      "Variación máximo                    object\n",
      "Año                                  int64\n",
      "dtype: object\n",
      "Valores nulos por columna:\n",
      "Comunidades y Ciudades Autonómas    0\n",
      "Precio€/m2                          0\n",
      "Variación mensual                   0\n",
      "Variación trimestral                0\n",
      "Variación anual                     0\n",
      "Máximo histórico                    0\n",
      "Variación máximo                    0\n",
      "Año                                 0\n",
      "dtype: int64\n",
      "------------------------------------------------------------\n",
      "DATASET: Superficie Media\n",
      "Shape: (8640, 6)\n",
      "Columnas: ['Total Nacional', 'Comunidades y Ciudades Autónomas', 'Superficie útil de la vivienda', 'Tamaño del hogar', 'periodo', 'Total']\n",
      "Primeras 3 filas:\n",
      "   Total Nacional Comunidades y Ciudades Autónomas  \\\n",
      "0  Total Nacional                              NaN   \n",
      "1  Total Nacional                              NaN   \n",
      "2  Total Nacional                              NaN   \n",
      "\n",
      "  Superficie útil de la vivienda Tamaño del hogar  periodo     Total  \n",
      "0                          Total            Total     2020  18.754,8  \n",
      "1                          Total            Total     2019  18.625,7  \n",
      "2                          Total            Total     2018  18.535,9  \n",
      "Tipos de datos:\n",
      "Total Nacional                      object\n",
      "Comunidades y Ciudades Autónomas    object\n",
      "Superficie útil de la vivienda      object\n",
      "Tamaño del hogar                    object\n",
      "periodo                              int64\n",
      "Total                               object\n",
      "dtype: object\n",
      "Valores nulos por columna:\n",
      "Total Nacional                        0\n",
      "Comunidades y Ciudades Autónomas    432\n",
      "Superficie útil de la vivienda        0\n",
      "Tamaño del hogar                      0\n",
      "periodo                               0\n",
      "Total                                 0\n",
      "dtype: int64\n",
      "------------------------------------------------------------\n",
      "DATASET: Tipos Interés\n",
      "Shape: (1170, 4)\n",
      "Columnas: ['Tipo de interés', 'Naturaleza de la finca', 'Periodo', 'Total']\n",
      "Primeras 3 filas:\n",
      "  Tipo de interés Naturaleza de la finca  Periodo Total\n",
      "0           Total           Total fincas  2025M03  3,23\n",
      "1           Total           Total fincas  2025M02  3,17\n",
      "2           Total           Total fincas  2025M01  3,31\n",
      "Tipos de datos:\n",
      "Tipo de interés           object\n",
      "Naturaleza de la finca    object\n",
      "Periodo                   object\n",
      "Total                     object\n",
      "dtype: object\n",
      "Valores nulos por columna:\n",
      "Tipo de interés           0\n",
      "Naturaleza de la finca    0\n",
      "Periodo                   0\n",
      "Total                     0\n",
      "dtype: int64\n",
      "------------------------------------------------------------\n"
     ]
    }
   ],
   "source": [
    "for name, df in datasets.items():\n",
    "    print(f\"DATASET: {name}\")\n",
    "    print(f\"Shape: {df.shape}\")\n",
    "    print(f\"Columnas: {list(df.columns)}\")\n",
    "    print(f\"Primeras 3 filas:\")\n",
    "    print(df.head(3))\n",
    "    print(f\"Tipos de datos:\")\n",
    "    print(df.dtypes)\n",
    "    print(f\"Valores nulos por columna:\")\n",
    "    print(df.isnull().sum())\n",
    "    print(\"-\" * 60)"
   ]
  },
  {
   "cell_type": "markdown",
   "id": "fc1c5bed",
   "metadata": {},
   "source": [
    "# ANÁLISIS EXPLORATORIO ESPECÍFICO POR DATASET"
   ]
  },
  {
   "cell_type": "code",
   "execution_count": 4,
   "id": "210c0533",
   "metadata": {},
   "outputs": [
    {
     "data": {
      "text/plain": [
       "Comunidades y Ciudades Autonómas\n",
       "Total Nacional                    594\n",
       "01 Andalucía                      594\n",
       "18 Ceuta                          594\n",
       "17 Rioja, La                      594\n",
       "16 País Vasco                     594\n",
       "15 Navarra, Comunidad Foral de    594\n",
       "14 Murcia, Región de              594\n",
       "13 Madrid, Comunidad de           594\n",
       "12 Galicia                        594\n",
       "11 Extremadura                    594\n",
       "10 Comunitat Valenciana           594\n",
       "09 Cataluña                       594\n",
       "08 Castilla - La Mancha           594\n",
       "07 Castilla y León                594\n",
       "06 Cantabria                      594\n",
       "05 Canarias                       594\n",
       "04 Balears, Illes                 594\n",
       "03 Asturias, Principado de        594\n",
       "02 Aragón                         594\n",
       "19 Melilla                        594\n",
       "Name: count, dtype: int64"
      ]
     },
     "execution_count": 4,
     "metadata": {},
     "output_type": "execute_result"
    }
   ],
   "source": [
    "salario_comunidad['Comunidades y Ciudades Autonómas'].value_counts()"
   ]
  },
  {
   "cell_type": "code",
   "execution_count": 5,
   "id": "c6873603",
   "metadata": {},
   "outputs": [
    {
     "data": {
      "text/plain": [
       "Grupo de edad\n",
       "Total              594\n",
       "De 16 a 24 años    594\n",
       "De 25 a 34 años    594\n",
       "De 35 a 44 años    594\n",
       "De 45 a 54 años    594\n",
       "55 y más años      594\n",
       "Name: count, dtype: int64"
      ]
     },
     "execution_count": 5,
     "metadata": {},
     "output_type": "execute_result"
    }
   ],
   "source": [
    "salario_edad['Grupo de edad'].value_counts()"
   ]
  },
  {
   "cell_type": "code",
   "execution_count": 6,
   "id": "2991c529",
   "metadata": {},
   "outputs": [
    {
     "name": "stdout",
     "output_type": "stream",
     "text": [
      "\n",
      "PERÍODOS TEMPORALES DISPONIBLES:\n",
      "Salarios por Edad: [2023, 2022]\n",
      "Salarios por Comunidad: [2023, 2022]\n",
      "IPV Histórico: ['2025T1', '2024T4', '2024T3', '2024T2', '2024T1', '2023T4', '2023T3', '2023T2', '2023T1', '2022T4', '2022T3', '2022T2', '2022T1']\n",
      "Excel Idealista: [2025, 2024, 2023, 2022]\n",
      "Superficie Media: Sin datos recientes\n",
      "Tipos Interés: ['2025M03', '2025M02', '2025M01', '2024M12', '2024M11', '2024M10', '2024M09', '2024M08', '2024M07', '2024M06', '2024M05', '2024M04', '2024M03', '2024M02', '2024M01', '2023M12', '2023M11', '2023M10', '2023M09', '2023M08', '2023M07', '2023M06', '2023M05', '2023M04', '2023M03', '2023M02', '2023M01', '2022M12', '2022M11', '2022M10', '2022M09', '2022M08', '2022M07', '2022M06', '2022M05', '2022M04', '2022M03', '2022M02', '2022M01']\n"
     ]
    }
   ],
   "source": [
    "#PERÍODOS TEMPORALES \n",
    "print(\"\\nPERÍODOS TEMPORALES DISPONIBLES:\")\n",
    "for name, df in datasets.items():\n",
    "    periodo_col = None\n",
    "    for col in df.columns:\n",
    "        if 'periodo' in col.lower() or 'año' in col.lower() or 'fecha' in col.lower():\n",
    "            periodo_col = col\n",
    "            break\n",
    "\n",
    "    if periodo_col:\n",
    "        años_disponibles = df[periodo_col].unique()\n",
    "        años_recientes = [año for año in años_disponibles if str(año).startswith(('2022', '2023', '2024', '2025'))]\n",
    "        print(f\"{name}: {años_recientes if años_recientes else 'Sin datos recientes'}\")\n",
    "    else:\n",
    "        print(f\"{name}: No se encontró columna de período\")\n"
   ]
  },
  {
   "cell_type": "code",
   "execution_count": 7,
   "id": "6135d3ab",
   "metadata": {},
   "outputs": [
    {
     "name": "stdout",
     "output_type": "stream",
     "text": [
      "\n",
      "Shape: (114, 8)\n",
      "\n",
      "Info:\n",
      "<class 'pandas.core.frame.DataFrame'>\n",
      "RangeIndex: 114 entries, 0 to 113\n",
      "Data columns (total 8 columns):\n",
      " #   Column                            Non-Null Count  Dtype \n",
      "---  ------                            --------------  ----- \n",
      " 0   Comunidades y Ciudades Autonómas  114 non-null    object\n",
      " 1   Precio€/m2                        114 non-null    object\n",
      " 2   Variación mensual                 114 non-null    object\n",
      " 3   Variación trimestral              114 non-null    object\n",
      " 4   Variación anual                   114 non-null    object\n",
      " 5   Máximo histórico                  114 non-null    object\n",
      " 6   Variación máximo                  114 non-null    object\n",
      " 7   Año                               114 non-null    int64 \n",
      "dtypes: int64(1), object(7)\n",
      "memory usage: 7.3+ KB\n",
      "None\n",
      "\n",
      "Tipos de datos:\n",
      "Comunidades y Ciudades Autonómas    object\n",
      "Precio€/m2                          object\n",
      "Variación mensual                   object\n",
      "Variación trimestral                object\n",
      "Variación anual                     object\n",
      "Máximo histórico                    object\n",
      "Variación máximo                    object\n",
      "Año                                  int64\n",
      "dtype: object\n"
     ]
    }
   ],
   "source": [
    "overview(idealista_excel)"
   ]
  },
  {
   "cell_type": "markdown",
   "id": "ae767995",
   "metadata": {},
   "source": [
    "Tras este análisis exploratorio nos damos cuenta que debemos realizar una limpieza de nulos, estandarización de nombres y cambio de tipos de datos. Así como realizar unos cálculos para obtener información de años necesarios. "
   ]
  },
  {
   "cell_type": "markdown",
   "id": "a0a296e3",
   "metadata": {},
   "source": [
    "# LIMPIEZA DATASETS"
   ]
  },
  {
   "cell_type": "code",
   "execution_count": 8,
   "id": "a0bc6408",
   "metadata": {},
   "outputs": [],
   "source": [
    "# LIMPIAR IDEALISTA\n",
    "#limpiar precios\n",
    "idealista_clean = idealista_excel.copy()"
   ]
  },
  {
   "cell_type": "code",
   "execution_count": 9,
   "id": "e90b068d",
   "metadata": {},
   "outputs": [
    {
     "name": "stdout",
     "output_type": "stream",
     "text": [
      "Precios convertidos:\n",
      "  Comunidades y Ciudades Autonómas  Precio€/m2  Precio m2\n",
      "0                        Andalucía  2.468 €/m2       2468\n",
      "1                           Aragón  1.469 €/m2       1469\n",
      "2                         Asturias  1.538 €/m2       1538\n",
      "3                         Baleares  4.905 €/m2       4905\n",
      "4                         Canarias  3.039 €/m2       3039\n"
     ]
    }
   ],
   "source": [
    "def limpiar_precio_m2(precio_texto):\n",
    "    if pd.isna(precio_texto):\n",
    "        return None\n",
    "    precio_limpio = str(precio_texto).replace('€/m2', '').replace('.', '').replace(',', '.').strip()\n",
    "    try:\n",
    "        return int(precio_limpio)\n",
    "    except:\n",
    "        return None\n",
    "\n",
    "idealista_clean['Precio m2'] = idealista_clean['Precio€/m2'].apply(limpiar_precio_m2)\n",
    "\n",
    "print(\"Precios convertidos:\")\n",
    "print(idealista_clean[['Comunidades y Ciudades Autonómas', 'Precio€/m2', 'Precio m2']].head())"
   ]
  },
  {
   "cell_type": "code",
   "execution_count": 10,
   "id": "bd36781a",
   "metadata": {},
   "outputs": [],
   "source": [
    "#ESTANDARIZAR NOMBRES DE CCAA\n",
    "# Mapeo para unificar nombres entre datasets\n",
    "mapeo_ccaa = {\n",
    "    'Andalucía': '01 Andalucía',\n",
    "    'Aragón': '02 Aragón', \n",
    "    'Asturias': '03 Asturias, Principado de',\n",
    "    'Baleares': '04 Balears, Illes',\n",
    "    'Canarias': '05 Canarias',\n",
    "    'Cantabria': '06 Cantabria',\n",
    "    'Castilla y León': '07 Castilla y León',\n",
    "    'Castilla-La Mancha': '08 Castilla - La Mancha',\n",
    "    'Cataluña': '09 Cataluña',\n",
    "    'Comunitat Valenciana': '10 Comunitat Valenciana',\n",
    "    'Extremadura': '11 Extremadura',\n",
    "    'Galicia': '12 Galicia',\n",
    "    'Madrid Comunidad': '13 Madrid, Comunidad de',\n",
    "    'Murcia Región': '14 Murcia, Región de',\n",
    "    'Navarra': '15 Navarra, Comunidad Foral de',\n",
    "    'Euskadi': '16 País Vasco',\n",
    "    'La Rioja': '17 Rioja, La',\n",
    "    'Ceuta': '18 Ceuta',\n",
    "    'Melilla': '19 Melilla'\n",
    "}\n"
   ]
  },
  {
   "cell_type": "code",
   "execution_count": 11,
   "id": "c633c9c5",
   "metadata": {},
   "outputs": [],
   "source": [
    "idealista_clean['Comunidades y Ciudades Autónomas'] = idealista_clean['Comunidades y Ciudades Autonómas'].map(mapeo_ccaa)"
   ]
  },
  {
   "cell_type": "code",
   "execution_count": 12,
   "id": "7692b3be",
   "metadata": {},
   "outputs": [],
   "source": [
    "columnas_a_mantener_idealista = [\n",
    "    'Comunidades y Ciudades Autónomas', \n",
    "    'Año', \n",
    "    'Precio m2'\n",
    "]\n",
    "\n",
    "idealista_final = idealista_clean[columnas_a_mantener_idealista].copy()\n"
   ]
  },
  {
   "cell_type": "code",
   "execution_count": 13,
   "id": "5d7e0190",
   "metadata": {},
   "outputs": [],
   "source": [
    "# ELIMINAR NULOS\n",
    "superficie_media=drop_nulls(superficie_media)"
   ]
  },
  {
   "cell_type": "code",
   "execution_count": 14,
   "id": "f2208d96",
   "metadata": {},
   "outputs": [],
   "source": [
    "ipv=drop_nulls(ipv)"
   ]
  },
  {
   "cell_type": "code",
   "execution_count": null,
   "id": "f107d36f",
   "metadata": {},
   "outputs": [],
   "source": [
    "from notebooks.data_cleaning_utils import limpiar_columna_total"
   ]
  },
  {
   "cell_type": "code",
   "execution_count": 16,
   "id": "8baf177e",
   "metadata": {},
   "outputs": [],
   "source": [
    "#LIMPIEZA DATASET IPV\n",
    "# Eliminar la columna 'Total Nacional' (solo contiene 'Nacional')\n",
    "ipv_clean = ipv.drop('Total Nacional', axis=1).copy()\n",
    "\n",
    "# Renombrar columnas para mayor claridad\n",
    "ipv_clean = ipv_clean.rename(columns={\n",
    "    'General, vivienda nueva y de segunda mano': 'Tipo Vivienda',\n",
    "    'Índices y tasas': 'Tipo Indicador'\n",
    "})"
   ]
  },
  {
   "cell_type": "code",
   "execution_count": 17,
   "id": "af34655d",
   "metadata": {},
   "outputs": [],
   "source": [
    "#LIMPIEZA DATASET SUPERFICIE MEDIA\n",
    "#ESTANDARIZAR NOMBRES DE CCAA\n",
    "# Mapeo para unificar nombres entre datasets\n",
    "mapeo_ccaa_2 = {\n",
    "    'Andalucía': '01 Andalucía',\n",
    "    'Aragón': '02 Aragón', \n",
    "    'Asturias, Principado de': '03 Asturias, Principado de',\n",
    "    'Balears, Illes': '04 Balears, Illes',\n",
    "    'Canarias': '05 Canarias',\n",
    "    'Cantabria': '06 Cantabria',\n",
    "    'Castilla y León': '07 Castilla y León',\n",
    "    'Castilla - La Mancha': '08 Castilla - La Mancha',\n",
    "    'Cataluña': '09 Cataluña',\n",
    "    'Comunitat Valenciana': '10 Comunitat Valenciana',\n",
    "    'Extremadura': '11 Extremadura',\n",
    "    'Galicia': '12 Galicia',\n",
    "    'Madrid, Comunidad de': '13 Madrid, Comunidad de',\n",
    "    'Murcia, Región de': '14 Murcia, Región de',\n",
    "    'Navarra, Comunidad Foral de': '15 Navarra, Comunidad Foral de',\n",
    "    'País Vasco': '16 País Vasco',\n",
    "    'Rioja, La': '17 Rioja, La',\n",
    "    'Ceuta': '18 Ceuta',\n",
    "    'Melilla': '19 Melilla'\n",
    "}"
   ]
  },
  {
   "cell_type": "code",
   "execution_count": 18,
   "id": "ea2741d1",
   "metadata": {},
   "outputs": [
    {
     "name": "stderr",
     "output_type": "stream",
     "text": [
      "/var/folders/4q/413qpbj17ks9bgdzl52cpx9m0000gn/T/ipykernel_9112/2539730385.py:1: SettingWithCopyWarning: \n",
      "A value is trying to be set on a copy of a slice from a DataFrame.\n",
      "Try using .loc[row_indexer,col_indexer] = value instead\n",
      "\n",
      "See the caveats in the documentation: https://pandas.pydata.org/pandas-docs/stable/user_guide/indexing.html#returning-a-view-versus-a-copy\n",
      "  superficie_media['Comunidades y Ciudades Autónomas'] = superficie_media['Comunidades y Ciudades Autónomas'].map(mapeo_ccaa_2)\n"
     ]
    }
   ],
   "source": [
    "superficie_media['Comunidades y Ciudades Autónomas'] = superficie_media['Comunidades y Ciudades Autónomas'].map(mapeo_ccaa_2)"
   ]
  },
  {
   "cell_type": "code",
   "execution_count": 19,
   "id": "b8c78540",
   "metadata": {},
   "outputs": [],
   "source": [
    "superficie_clean = superficie_media.drop('Total Nacional', axis=1).copy()\n",
    "\n",
    "# Renombrar columnas\n",
    "superficie_clean = superficie_clean.rename(columns={\n",
    "    'Superficie útil de la vivienda': 'Superficie Util',\n",
    "    'Tamaño del hogar': 'Tamaño Hogar',\n",
    "    'periodo': 'Año'\n",
    "})"
   ]
  },
  {
   "cell_type": "code",
   "execution_count": 20,
   "id": "40361f89",
   "metadata": {},
   "outputs": [],
   "source": [
    "#LIMPIEZA COLUMNA TOTAL EN TODOS LOS CSV (menos idealista)\n",
    "ipv_clean= limpiar_columna_total(ipv_clean)\n",
    "superficie_clean= limpiar_columna_total(superficie_clean)\n",
    "salario_comunidad = limpiar_columna_total(salario_comunidad)\n",
    "salario_edad = limpiar_columna_total(salario_edad)\n",
    "interes_fijo = limpiar_columna_total(interes_fijo)"
   ]
  },
  {
   "cell_type": "code",
   "execution_count": 21,
   "id": "e77e8a08",
   "metadata": {},
   "outputs": [],
   "source": [
    "salario_comunidad.rename(columns={'Comunidades y Ciudades Autonómas': 'Comunidades y Ciudades Autónomas'}, inplace=True)"
   ]
  },
  {
   "cell_type": "code",
   "execution_count": 22,
   "id": "5606fc17",
   "metadata": {},
   "outputs": [],
   "source": [
    "#estandarizar al completo la variables de la columna de ccaa\n",
    "salario_comunidad = limpiar_comillas_ccaa(salario_comunidad)\n",
    "ipv_clean = limpiar_comillas_ccaa(ipv_clean)\n",
    "idealista_final = limpiar_comillas_ccaa(idealista_final)"
   ]
  },
  {
   "cell_type": "code",
   "execution_count": 23,
   "id": "fc3d7f93",
   "metadata": {},
   "outputs": [],
   "source": [
    "# columna de año\n",
    "salario_comunidad.rename(columns={\"Periodo\": \"Año\"}, inplace=True)\n",
    "salario_edad.rename(columns={\"Periodo\": \"Año\"}, inplace=True)"
   ]
  },
  {
   "cell_type": "code",
   "execution_count": 24,
   "id": "452d4fd6",
   "metadata": {},
   "outputs": [],
   "source": [
    "# Data time en Periodo de IPV e Interés Fijo\n",
    "ipv_clean = convertir_periodo_con_detalles(ipv_clean)\n",
    "interes_fijo = convertir_periodo_con_detalles(interes_fijo)\n"
   ]
  },
  {
   "cell_type": "code",
   "execution_count": 25,
   "id": "fb22d0df",
   "metadata": {},
   "outputs": [],
   "source": [
    "#todos a int64\n",
    "ipv_clean = convertir_int32_a_int64(ipv_clean)\n",
    "interes_fijo = convertir_int32_a_int64(interes_fijo)"
   ]
  },
  {
   "cell_type": "code",
   "execution_count": 26,
   "id": "6965bdc0",
   "metadata": {},
   "outputs": [
    {
     "data": {
      "text/plain": [
       "array(['2025M3', '2025M2', '2025M1', '2024M12', '2024M11', '2024M10',\n",
       "       '2024M9', '2024M8', '2024M7', '2024M6', '2024M5', '2024M4',\n",
       "       '2024M3', '2024M2', '2024M1', '2023M12', '2023M11', '2023M10',\n",
       "       '2023M9', '2023M8', '2023M7', '2023M6', '2023M5', '2023M4',\n",
       "       '2023M3', '2023M2', '2023M1', '2022M12', '2022M11', '2022M10',\n",
       "       '2022M9', '2022M8', '2022M7', '2022M6', '2022M5', '2022M4',\n",
       "       '2022M3', '2022M2', '2022M1', '2021M12', '2021M11', '2021M10',\n",
       "       '2021M9', '2021M8', '2021M7', '2021M6', '2021M5', '2021M4',\n",
       "       '2021M3', '2021M2', '2021M1', '2020M12', '2020M11', '2020M10',\n",
       "       '2020M9', '2020M8', '2020M7', '2020M6', '2020M5', '2020M4',\n",
       "       '2020M3', '2020M2', '2020M1', '2019M12', '2019M11', '2019M10',\n",
       "       '2019M9', '2019M8', '2019M7', '2019M6', '2019M5', '2019M4',\n",
       "       '2019M3', '2019M2', '2019M1', '2018M12', '2018M11', '2018M10',\n",
       "       '2018M9', '2018M8', '2018M7', '2018M6', '2018M5', '2018M4',\n",
       "       '2018M3', '2018M2', '2018M1', '2017M12', '2017M11', '2017M10',\n",
       "       '2017M9', '2017M8', '2017M7', '2017M6', '2017M5', '2017M4',\n",
       "       '2017M3', '2017M2', '2017M1', '2016M12', '2016M11', '2016M10',\n",
       "       '2016M9', '2016M8', '2016M7', '2016M6', '2016M5', '2016M4',\n",
       "       '2016M3', '2016M2', '2016M1', '2015M12', '2015M11', '2015M10',\n",
       "       '2015M9', '2015M8', '2015M7', '2015M6', '2015M5', '2015M4',\n",
       "       '2015M3', '2015M2', '2015M1', '2014M12', '2014M11', '2014M10',\n",
       "       '2014M9', '2014M8', '2014M7', '2014M6', '2014M5', '2014M4',\n",
       "       '2014M3', '2014M2', '2014M1', '2013M12', '2013M11', '2013M10',\n",
       "       '2013M9', '2013M8', '2013M7', '2013M6', '2013M5', '2013M4',\n",
       "       '2013M3', '2013M2', '2013M1', '2012M12', '2012M11', '2012M10',\n",
       "       '2012M9', '2012M8', '2012M7', '2012M6', '2012M5', '2012M4',\n",
       "       '2012M3', '2012M2', '2012M1', '2011M12', '2011M11', '2011M10',\n",
       "       '2011M9', '2011M8', '2011M7', '2011M6', '2011M5', '2011M4',\n",
       "       '2011M3', '2011M2', '2011M1', '2010M12', '2010M11', '2010M10',\n",
       "       '2010M9', '2010M8', '2010M7', '2010M6', '2010M5', '2010M4',\n",
       "       '2010M3', '2010M2', '2010M1', '2009M12', '2009M11', '2009M10',\n",
       "       '2009M9', '2009M8', '2009M7', '2009M6', '2009M5', '2009M4',\n",
       "       '2009M3', '2009M2', '2009M1'], dtype=object)"
      ]
     },
     "execution_count": 26,
     "metadata": {},
     "output_type": "execute_result"
    }
   ],
   "source": [
    "# Corregir el formato '2025T03' → '2025T3'\n",
    "interes_fijo[\"Periodo\"] = interes_fijo[\"Periodo\"].str.replace(r\"M0\", \"M\", regex=True)\n",
    "interes_fijo[\"Periodo\"].unique()"
   ]
  },
  {
   "cell_type": "code",
   "execution_count": 27,
   "id": "ec9b2761",
   "metadata": {},
   "outputs": [
    {
     "data": {
      "text/plain": [
       "array(['2025T1', '2024T4', '2024T3', '2024T2', '2024T1', '2023T4',\n",
       "       '2023T3', '2023T2', '2023T1', '2022T4', '2022T3', '2022T2',\n",
       "       '2022T1', '2021T4', '2021T3', '2021T2', '2021T1', '2020T4',\n",
       "       '2020T3', '2020T2', '2020T1', '2019T4', '2019T3', '2019T2',\n",
       "       '2019T1', '2018T4', '2018T3', '2018T2', '2018T1', '2017T4',\n",
       "       '2017T3', '2017T2', '2017T1', '2016T4', '2016T3', '2016T2',\n",
       "       '2016T1', '2015T4', '2015T3', '2015T2', '2015T1', '2014T4',\n",
       "       '2014T3', '2014T2', '2014T1', '2013T4', '2013T3', '2013T2',\n",
       "       '2013T1', '2012T4', '2012T3', '2012T2', '2012T1', '2011T4',\n",
       "       '2011T3', '2011T2', '2011T1', '2010T4', '2010T3', '2010T2',\n",
       "       '2010T1', '2009T4', '2009T3', '2009T2', '2009T1', '2008T4',\n",
       "       '2008T3', '2008T2', '2008T1', '2007T4', '2007T3', '2007T2',\n",
       "       '2007T1'], dtype=object)"
      ]
     },
     "execution_count": 27,
     "metadata": {},
     "output_type": "execute_result"
    }
   ],
   "source": [
    "# Corregir el formato '2025T03' → '2025T3'\n",
    "ipv_clean[\"Periodo\"] = ipv_clean[\"Periodo\"].str.replace(r\"T0\", \"T\", regex=True)\n",
    "ipv_clean[\"Periodo\"].unique()"
   ]
  },
  {
   "cell_type": "markdown",
   "id": "2e330777",
   "metadata": {},
   "source": [
    "idealista_final, interes_fijo, slario_comunidad, salario_edad y el resto \"_clean\" son los datasets limpios para trabajar en ellos "
   ]
  },
  {
   "cell_type": "markdown",
   "id": "a2afafaf",
   "metadata": {},
   "source": [
    "### Volvemos a estandarizar los nombres de las columnas de ccaa"
   ]
  },
  {
   "cell_type": "code",
   "execution_count": 28,
   "id": "1dd7519e",
   "metadata": {},
   "outputs": [],
   "source": [
    "df_salario_comunidad = estandarizar_comunidades(salario_comunidad, \"Comunidades y Ciudades Autónomas\")\n",
    "df_ipv = estandarizar_comunidades(ipv_clean, \"Comunidades y Ciudades Autónomas\")\n",
    "df_superficie= estandarizar_comunidades(superficie_clean, \"Comunidades y Ciudades Autónomas\")\n",
    "df_precios= estandarizar_comunidades(idealista_final, \"Comunidades y Ciudades Autónomas\")"
   ]
  },
  {
   "cell_type": "code",
   "execution_count": 29,
   "id": "09526e85",
   "metadata": {},
   "outputs": [
    {
     "data": {
      "text/plain": [
       "False"
      ]
     },
     "execution_count": 29,
     "metadata": {},
     "output_type": "execute_result"
    }
   ],
   "source": [
    "set(df_ipv[\"Comunidades y Ciudades Autónomas\"].unique()) == set(df_salario_comunidad[\"Comunidades y Ciudades Autónomas\"].unique())"
   ]
  },
  {
   "cell_type": "code",
   "execution_count": 30,
   "id": "ca50d74b",
   "metadata": {},
   "outputs": [
    {
     "name": "stdout",
     "output_type": "stream",
     "text": [
      "En IPV y no en salario_comunidad:\n",
      "set()\n",
      "\n",
      "En salario_comunidad y no en IPV:\n",
      "{'Total Nacional'}\n"
     ]
    }
   ],
   "source": [
    "comunidades_ipv = set(df_ipv[\"Comunidades y Ciudades Autónomas\"].unique())\n",
    "comunidades_salario = set(df_salario_comunidad[\"Comunidades y Ciudades Autónomas\"].unique())\n",
    "\n",
    "print(\"En IPV y no en salario_comunidad:\")\n",
    "print(comunidades_ipv - comunidades_salario)\n",
    "\n",
    "print(\"\\nEn salario_comunidad y no en IPV:\")\n",
    "print(comunidades_salario - comunidades_ipv)"
   ]
  },
  {
   "cell_type": "markdown",
   "id": "c1dcf7d7",
   "metadata": {},
   "source": [
    "EXPORTAMOS LOS DOS CSVS LIMPIOS \n",
    "import os\n",
    "os.makedirs('data/clean', exist_ok=True)\n",
    "interes_fijo.to_csv('../data/clean/interes_fijo_sql.csv', index=False)\n",
    "salario_edad.to_csv('../data/clean/salario_edad_sql.csv', index=False)\n",
    "df_ipv.to_csv('../data/clean/ipv.csv', index=False)\n",
    "df_salario_comunidad.to_csv('../data/clean/salario_ccaa_sql.csv', index=False)\n",
    "df_precios.to_csv('../data/clean/precios_sql.csv', index=False)\n",
    "df_superficie.to_csv('../data/clean/superficie_sql.csv', index=False)\n",
    "df_precios.to_csv('../data/clean/precios_sql.csv', index=False)"
   ]
  },
  {
   "cell_type": "code",
   "execution_count": 37,
   "id": "4c0b0e2a",
   "metadata": {},
   "outputs": [
    {
     "data": {
      "text/html": [
       "<div>\n",
       "<style scoped>\n",
       "    .dataframe tbody tr th:only-of-type {\n",
       "        vertical-align: middle;\n",
       "    }\n",
       "\n",
       "    .dataframe tbody tr th {\n",
       "        vertical-align: top;\n",
       "    }\n",
       "\n",
       "    .dataframe thead th {\n",
       "        text-align: right;\n",
       "    }\n",
       "</style>\n",
       "<table border=\"1\" class=\"dataframe\">\n",
       "  <thead>\n",
       "    <tr style=\"text-align: right;\">\n",
       "      <th></th>\n",
       "      <th>comunidades_y_ciudades_autónomas</th>\n",
       "      <th>tipo_vivienda</th>\n",
       "      <th>tipo_indicador</th>\n",
       "      <th>periodo</th>\n",
       "      <th>total</th>\n",
       "      <th>fecha</th>\n",
       "      <th>año</th>\n",
       "      <th>mes</th>\n",
       "      <th>trimestre</th>\n",
       "    </tr>\n",
       "  </thead>\n",
       "  <tbody>\n",
       "    <tr>\n",
       "      <th>876</th>\n",
       "      <td>01 Andalucia</td>\n",
       "      <td>General</td>\n",
       "      <td>Índice</td>\n",
       "      <td>2025T1</td>\n",
       "      <td>170.858</td>\n",
       "      <td>2025-01-01</td>\n",
       "      <td>2025</td>\n",
       "      <td>1</td>\n",
       "      <td>1</td>\n",
       "    </tr>\n",
       "    <tr>\n",
       "      <th>877</th>\n",
       "      <td>01 Andalucia</td>\n",
       "      <td>General</td>\n",
       "      <td>Índice</td>\n",
       "      <td>2024T4</td>\n",
       "      <td>165.457</td>\n",
       "      <td>2024-10-01</td>\n",
       "      <td>2024</td>\n",
       "      <td>10</td>\n",
       "      <td>4</td>\n",
       "    </tr>\n",
       "    <tr>\n",
       "      <th>878</th>\n",
       "      <td>01 Andalucia</td>\n",
       "      <td>General</td>\n",
       "      <td>Índice</td>\n",
       "      <td>2024T3</td>\n",
       "      <td>162.275</td>\n",
       "      <td>2024-07-01</td>\n",
       "      <td>2024</td>\n",
       "      <td>7</td>\n",
       "      <td>3</td>\n",
       "    </tr>\n",
       "    <tr>\n",
       "      <th>879</th>\n",
       "      <td>01 Andalucia</td>\n",
       "      <td>General</td>\n",
       "      <td>Índice</td>\n",
       "      <td>2024T2</td>\n",
       "      <td>156.273</td>\n",
       "      <td>2024-04-01</td>\n",
       "      <td>2024</td>\n",
       "      <td>4</td>\n",
       "      <td>2</td>\n",
       "    </tr>\n",
       "    <tr>\n",
       "      <th>880</th>\n",
       "      <td>01 Andalucia</td>\n",
       "      <td>General</td>\n",
       "      <td>Índice</td>\n",
       "      <td>2024T1</td>\n",
       "      <td>149.880</td>\n",
       "      <td>2024-01-01</td>\n",
       "      <td>2024</td>\n",
       "      <td>1</td>\n",
       "      <td>1</td>\n",
       "    </tr>\n",
       "    <tr>\n",
       "      <th>...</th>\n",
       "      <td>...</td>\n",
       "      <td>...</td>\n",
       "      <td>...</td>\n",
       "      <td>...</td>\n",
       "      <td>...</td>\n",
       "      <td>...</td>\n",
       "      <td>...</td>\n",
       "      <td>...</td>\n",
       "      <td>...</td>\n",
       "    </tr>\n",
       "    <tr>\n",
       "      <th>16931</th>\n",
       "      <td>19 Melilla</td>\n",
       "      <td>General</td>\n",
       "      <td>Variación en lo que va de año</td>\n",
       "      <td>2008T1</td>\n",
       "      <td>0.900</td>\n",
       "      <td>2008-01-01</td>\n",
       "      <td>2008</td>\n",
       "      <td>1</td>\n",
       "      <td>1</td>\n",
       "    </tr>\n",
       "    <tr>\n",
       "      <th>16932</th>\n",
       "      <td>19 Melilla</td>\n",
       "      <td>General</td>\n",
       "      <td>Variación en lo que va de año</td>\n",
       "      <td>2007T4</td>\n",
       "      <td>14.500</td>\n",
       "      <td>2007-10-01</td>\n",
       "      <td>2007</td>\n",
       "      <td>10</td>\n",
       "      <td>4</td>\n",
       "    </tr>\n",
       "    <tr>\n",
       "      <th>16933</th>\n",
       "      <td>19 Melilla</td>\n",
       "      <td>General</td>\n",
       "      <td>Variación en lo que va de año</td>\n",
       "      <td>2007T3</td>\n",
       "      <td>12.600</td>\n",
       "      <td>2007-07-01</td>\n",
       "      <td>2007</td>\n",
       "      <td>7</td>\n",
       "      <td>3</td>\n",
       "    </tr>\n",
       "    <tr>\n",
       "      <th>16934</th>\n",
       "      <td>19 Melilla</td>\n",
       "      <td>General</td>\n",
       "      <td>Variación en lo que va de año</td>\n",
       "      <td>2007T2</td>\n",
       "      <td>9.600</td>\n",
       "      <td>2007-04-01</td>\n",
       "      <td>2007</td>\n",
       "      <td>4</td>\n",
       "      <td>2</td>\n",
       "    </tr>\n",
       "    <tr>\n",
       "      <th>16935</th>\n",
       "      <td>19 Melilla</td>\n",
       "      <td>General</td>\n",
       "      <td>Variación en lo que va de año</td>\n",
       "      <td>2007T1</td>\n",
       "      <td>6.300</td>\n",
       "      <td>2007-01-01</td>\n",
       "      <td>2007</td>\n",
       "      <td>1</td>\n",
       "      <td>1</td>\n",
       "    </tr>\n",
       "  </tbody>\n",
       "</table>\n",
       "<p>15476 rows × 9 columns</p>\n",
       "</div>"
      ],
      "text/plain": [
       "      comunidades_y_ciudades_autónomas tipo_vivienda  \\\n",
       "876                       01 Andalucia       General   \n",
       "877                       01 Andalucia       General   \n",
       "878                       01 Andalucia       General   \n",
       "879                       01 Andalucia       General   \n",
       "880                       01 Andalucia       General   \n",
       "...                                ...           ...   \n",
       "16931                       19 Melilla       General   \n",
       "16932                       19 Melilla       General   \n",
       "16933                       19 Melilla       General   \n",
       "16934                       19 Melilla       General   \n",
       "16935                       19 Melilla       General   \n",
       "\n",
       "                      tipo_indicador periodo    total      fecha   año  mes  \\\n",
       "876                           Índice  2025T1  170.858 2025-01-01  2025    1   \n",
       "877                           Índice  2024T4  165.457 2024-10-01  2024   10   \n",
       "878                           Índice  2024T3  162.275 2024-07-01  2024    7   \n",
       "879                           Índice  2024T2  156.273 2024-04-01  2024    4   \n",
       "880                           Índice  2024T1  149.880 2024-01-01  2024    1   \n",
       "...                              ...     ...      ...        ...   ...  ...   \n",
       "16931  Variación en lo que va de año  2008T1    0.900 2008-01-01  2008    1   \n",
       "16932  Variación en lo que va de año  2007T4   14.500 2007-10-01  2007   10   \n",
       "16933  Variación en lo que va de año  2007T3   12.600 2007-07-01  2007    7   \n",
       "16934  Variación en lo que va de año  2007T2    9.600 2007-04-01  2007    4   \n",
       "16935  Variación en lo que va de año  2007T1    6.300 2007-01-01  2007    1   \n",
       "\n",
       "       trimestre  \n",
       "876            1  \n",
       "877            4  \n",
       "878            3  \n",
       "879            2  \n",
       "880            1  \n",
       "...          ...  \n",
       "16931          1  \n",
       "16932          4  \n",
       "16933          3  \n",
       "16934          2  \n",
       "16935          1  \n",
       "\n",
       "[15476 rows x 9 columns]"
      ]
     },
     "execution_count": 37,
     "metadata": {},
     "output_type": "execute_result"
    }
   ],
   "source": [
    "## en SQL los nombres de las columnas deben estar estandarizados... so \n",
    "\n",
    "normalize_column_names(df_salario_comunidad)\n",
    "normalize_column_names(df_precios)\n",
    "normalize_column_names(df_superficie)\n",
    "normalize_column_names(salario_edad)\n",
    "normalize_column_names(interes_fijo)\n",
    "normalize_column_names(df_ipv)"
   ]
  }
 ],
 "metadata": {
  "kernelspec": {
   "display_name": "base",
   "language": "python",
   "name": "python3"
  },
  "language_info": {
   "codemirror_mode": {
    "name": "ipython",
    "version": 3
   },
   "file_extension": ".py",
   "mimetype": "text/x-python",
   "name": "python",
   "nbconvert_exporter": "python",
   "pygments_lexer": "ipython3",
   "version": "3.12.7"
  }
 },
 "nbformat": 4,
 "nbformat_minor": 5
}
