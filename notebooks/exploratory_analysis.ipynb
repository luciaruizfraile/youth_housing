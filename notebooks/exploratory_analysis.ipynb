{
 "cells": [
  {
   "cell_type": "code",
   "execution_count": 53,
   "id": "b369549b",
   "metadata": {},
   "outputs": [],
   "source": [
    "from pathlib import Path\n",
    "import pandas as pd\n",
    "import sys \n",
    "\n",
    "# Definir la ruta base\n",
    "data_path = Path('..') / 'data' / 'raw'\n",
    "src_path = Path('..') / 'src' \n",
    "\n",
    "sys.path.append(str(src_path))\n",
    "from data_cleaning_utils import *\n",
    "\n",
    "# Leer los archivos\n",
    "# Probar con diferentes separadores y encoding\n",
    "salario_edad = pd.read_csv(data_path / 'salario_medio bruto_edad.csv', \n",
    "                  sep=';',  # Muchos CSVs españoles usan punto y coma\n",
    "                  encoding='utf-8')\n",
    "\n",
    "salario_comunidad = pd.read_csv(data_path / 'salario_medio_bruto_comunidad.csv',\n",
    "                  sep=';',\n",
    "                  encoding='utf-8')\n",
    "\n",
    "ipv = pd.read_csv(data_path / 'ipv historico.csv',\n",
    "                  sep=';',\n",
    "                  encoding='utf-8')\n",
    "\n",
    "superficie_media = pd.read_csv(data_path / 'superficie util vivienda valor medio del periodo.csv',\n",
    "                  sep=';',\n",
    "                  encoding='utf-8')\n",
    "\n",
    "interes_fijo = pd.read_csv(data_path / 'tipo interes medio inicio hipotecas constituidas fijo o variable.csv',\n",
    "                  sep=';',\n",
    "                  encoding='utf-8')\n",
    "idealista_excel = pd.read_excel(data_path / 'Copia_idealista_metros_cuadrados.xlsx')\n"
   ]
  },
  {
   "cell_type": "markdown",
   "id": "a340a997",
   "metadata": {},
   "source": [
    "# EXPLORACIÓN INICIAL DE DATASETS PARA ANÁLISIS HIPOTECARIO"
   ]
  },
  {
   "cell_type": "code",
   "execution_count": 3,
   "id": "90d51327",
   "metadata": {},
   "outputs": [],
   "source": [
    "# Diccionario de datasets para iterar\n",
    "datasets = {\n",
    "    'Salarios por Edad': salario_edad,\n",
    "    'Salarios por Comunidad': salario_comunidad, \n",
    "    'IPV Histórico': ipv,\n",
    "    'Excel Idealista' : idealista_excel,\n",
    "    'Superficie Media': superficie_media,\n",
    "    'Tipos Interés': interes_fijo\n",
    "}"
   ]
  },
  {
   "cell_type": "code",
   "execution_count": 4,
   "id": "1df84d8c",
   "metadata": {},
   "outputs": [
    {
     "name": "stdout",
     "output_type": "stream",
     "text": [
      "\n",
      "📊 DATASET: Salarios por Edad\n",
      "Shape: (3564, 5)\n",
      "Columnas: ['Tipo de jornada', 'Grupo de edad', 'Decil', 'Periodo', 'Total']\n",
      "Primeras 3 filas:\n",
      "  Tipo de jornada Grupo de edad        Decil  Periodo     Total\n",
      "0           Total         Total  Total decil     2023  2.273,01\n",
      "1           Total         Total  Total decil     2022  2.118,79\n",
      "2           Total         Total  Total decil     2021  2.076,45\n",
      "Tipos de datos:\n",
      "Tipo de jornada    object\n",
      "Grupo de edad      object\n",
      "Decil              object\n",
      "Periodo             int64\n",
      "Total              object\n",
      "dtype: object\n",
      "Valores nulos por columna:\n",
      "Tipo de jornada    0\n",
      "Grupo de edad      0\n",
      "Decil              0\n",
      "Periodo            0\n",
      "Total              0\n",
      "dtype: int64\n",
      "------------------------------------------------------------\n",
      "\n",
      "📊 DATASET: Salarios por Comunidad\n",
      "Shape: (11880, 5)\n",
      "Columnas: ['Tipo de jornada', 'Comunidades y Ciudades Autonómas', 'Decil', 'Periodo', 'Total']\n",
      "Primeras 3 filas:\n",
      "  Tipo de jornada Comunidades y Ciudades Autonómas        Decil  Periodo  \\\n",
      "0           Total                   Total Nacional  Total decil     2023   \n",
      "1           Total                   Total Nacional  Total decil     2022   \n",
      "2           Total                   Total Nacional  Total decil     2021   \n",
      "\n",
      "      Total  \n",
      "0  2.273,01  \n",
      "1  2.118,79  \n",
      "2  2.076,45  \n",
      "Tipos de datos:\n",
      "Tipo de jornada                     object\n",
      "Comunidades y Ciudades Autonómas    object\n",
      "Decil                               object\n",
      "Periodo                              int64\n",
      "Total                               object\n",
      "dtype: object\n",
      "Valores nulos por columna:\n",
      "Tipo de jornada                     0\n",
      "Comunidades y Ciudades Autonómas    0\n",
      "Decil                               0\n",
      "Periodo                             0\n",
      "Total                               0\n",
      "dtype: int64\n",
      "------------------------------------------------------------\n",
      "\n",
      "📊 DATASET: IPV Histórico\n",
      "Shape: (17520, 6)\n",
      "Columnas: ['Total Nacional', 'Comunidades y Ciudades Autónomas', 'General, vivienda nueva y de segunda mano', 'Índices y tasas', 'Periodo', 'Total']\n",
      "Primeras 3 filas:\n",
      "  Total Nacional Comunidades y Ciudades Autónomas  \\\n",
      "0       Nacional                              NaN   \n",
      "1       Nacional                              NaN   \n",
      "2       Nacional                              NaN   \n",
      "\n",
      "  General, vivienda nueva y de segunda mano Índices y tasas Periodo    Total  \n",
      "0                                   General          Índice  2025T1  171,296  \n",
      "1                                   General          Índice  2024T4  165,433  \n",
      "2                                   General          Índice  2024T3  162,521  \n",
      "Tipos de datos:\n",
      "Total Nacional                               object\n",
      "Comunidades y Ciudades Autónomas             object\n",
      "General, vivienda nueva y de segunda mano    object\n",
      "Índices y tasas                              object\n",
      "Periodo                                      object\n",
      "Total                                        object\n",
      "dtype: object\n",
      "Valores nulos por columna:\n",
      "Total Nacional                                  0\n",
      "Comunidades y Ciudades Autónomas              876\n",
      "General, vivienda nueva y de segunda mano       0\n",
      "Índices y tasas                                 0\n",
      "Periodo                                         0\n",
      "Total                                        1168\n",
      "dtype: int64\n",
      "------------------------------------------------------------\n",
      "\n",
      "📊 DATASET: Excel Idealista\n",
      "Shape: (114, 8)\n",
      "Columnas: ['Comunidades y Ciudades Autonómas', 'Precio€/m2', 'Variación mensual', 'Variación trimestral', 'Variación anual', 'Máximo histórico', 'Variación máximo', 'Año']\n",
      "Primeras 3 filas:\n",
      "  Comunidades y Ciudades Autonómas  Precio€/m2 Variación mensual  \\\n",
      "0                        Andalucía  2.468 €/m2             0.018   \n",
      "1                           Aragón  1.469 €/m2           - 0,2 %   \n",
      "2                         Asturias  1.538 €/m2             0.017   \n",
      "\n",
      "  Variación trimestral Variación anual      Máximo histórico Variación máximo  \\\n",
      "0                0.053           0.143  2.468 €/m2 mayo 2025            0,0 %   \n",
      "1                0.029           0.028   2.008 €/m2 mar 2007         - 26,8 %   \n",
      "2                0.054           0.109   1.867 €/m2 abr 2008         - 17,6 %   \n",
      "\n",
      "    Año  \n",
      "0  2025  \n",
      "1  2025  \n",
      "2  2025  \n",
      "Tipos de datos:\n",
      "Comunidades y Ciudades Autonómas    object\n",
      "Precio€/m2                          object\n",
      "Variación mensual                   object\n",
      "Variación trimestral                object\n",
      "Variación anual                     object\n",
      "Máximo histórico                    object\n",
      "Variación máximo                    object\n",
      "Año                                  int64\n",
      "dtype: object\n",
      "Valores nulos por columna:\n",
      "Comunidades y Ciudades Autonómas    0\n",
      "Precio€/m2                          0\n",
      "Variación mensual                   0\n",
      "Variación trimestral                0\n",
      "Variación anual                     0\n",
      "Máximo histórico                    0\n",
      "Variación máximo                    0\n",
      "Año                                 0\n",
      "dtype: int64\n",
      "------------------------------------------------------------\n",
      "\n",
      "📊 DATASET: Superficie Media\n",
      "Shape: (8640, 6)\n",
      "Columnas: ['Total Nacional', 'Comunidades y Ciudades Autónomas', 'Superficie útil de la vivienda', 'Tamaño del hogar', 'periodo', 'Total']\n",
      "Primeras 3 filas:\n",
      "   Total Nacional Comunidades y Ciudades Autónomas  \\\n",
      "0  Total Nacional                              NaN   \n",
      "1  Total Nacional                              NaN   \n",
      "2  Total Nacional                              NaN   \n",
      "\n",
      "  Superficie útil de la vivienda Tamaño del hogar  periodo     Total  \n",
      "0                          Total            Total     2020  18.754,8  \n",
      "1                          Total            Total     2019  18.625,7  \n",
      "2                          Total            Total     2018  18.535,9  \n",
      "Tipos de datos:\n",
      "Total Nacional                      object\n",
      "Comunidades y Ciudades Autónomas    object\n",
      "Superficie útil de la vivienda      object\n",
      "Tamaño del hogar                    object\n",
      "periodo                              int64\n",
      "Total                               object\n",
      "dtype: object\n",
      "Valores nulos por columna:\n",
      "Total Nacional                        0\n",
      "Comunidades y Ciudades Autónomas    432\n",
      "Superficie útil de la vivienda        0\n",
      "Tamaño del hogar                      0\n",
      "periodo                               0\n",
      "Total                                 0\n",
      "dtype: int64\n",
      "------------------------------------------------------------\n",
      "\n",
      "📊 DATASET: Tipos Interés\n",
      "Shape: (1170, 4)\n",
      "Columnas: ['Tipo de interés', 'Naturaleza de la finca', 'Periodo', 'Total']\n",
      "Primeras 3 filas:\n",
      "  Tipo de interés Naturaleza de la finca  Periodo Total\n",
      "0           Total           Total fincas  2025M03  3,23\n",
      "1           Total           Total fincas  2025M02  3,17\n",
      "2           Total           Total fincas  2025M01  3,31\n",
      "Tipos de datos:\n",
      "Tipo de interés           object\n",
      "Naturaleza de la finca    object\n",
      "Periodo                   object\n",
      "Total                     object\n",
      "dtype: object\n",
      "Valores nulos por columna:\n",
      "Tipo de interés           0\n",
      "Naturaleza de la finca    0\n",
      "Periodo                   0\n",
      "Total                     0\n",
      "dtype: int64\n",
      "------------------------------------------------------------\n"
     ]
    }
   ],
   "source": [
    "for name, df in datasets.items():\n",
    "    print(f\"\\n📊 DATASET: {name}\")\n",
    "    print(f\"Shape: {df.shape}\")\n",
    "    print(f\"Columnas: {list(df.columns)}\")\n",
    "    print(f\"Primeras 3 filas:\")\n",
    "    print(df.head(3))\n",
    "    print(f\"Tipos de datos:\")\n",
    "    print(df.dtypes)\n",
    "    print(f\"Valores nulos por columna:\")\n",
    "    print(df.isnull().sum())\n",
    "    print(\"-\" * 60)"
   ]
  },
  {
   "cell_type": "markdown",
   "id": "fc1c5bed",
   "metadata": {},
   "source": [
    "# ANÁLISIS EXPLORATORIO ESPECÍFICO POR DATASET"
   ]
  },
  {
   "cell_type": "code",
   "execution_count": 4,
   "id": "86e0bdf6",
   "metadata": {},
   "outputs": [
    {
     "name": "stdout",
     "output_type": "stream",
     "text": [
      "\n",
      "🔍 SALARIOS POR EDAD - Grupos disponibles:\n",
      "['Total' 'De 16 a 24 años' 'De 25 a 34 años' 'De 35 a 44 años'\n",
      " 'De 45 a 54 años' '55 y más años']\n"
     ]
    }
   ],
   "source": [
    "# 1. SALARIOS POR EDAD - buscar grupo 25-34\n",
    "print(\"\\n🔍 SALARIOS POR EDAD - Grupos disponibles:\")\n",
    "if 'Grupo de edad' in salario_edad.columns:\n",
    "    print(salario_edad['Grupo de edad'].unique())\n",
    "elif 'grupo_edad' in salario_edad.columns:  \n",
    "    print(salario_edad['grupo_edad'].unique())\n",
    "else:\n",
    "    print(\"Revisar nombre de columna de edad:\", list(salario_edad.columns))"
   ]
  },
  {
   "cell_type": "code",
   "execution_count": 5,
   "id": "7147002f",
   "metadata": {},
   "outputs": [
    {
     "name": "stdout",
     "output_type": "stream",
     "text": [
      "\n",
      "🔍 SALARIOS POR COMUNIDAD - CCAA disponibles:\n",
      "Columna CCAA: Comunidades y Ciudades Autonómas\n",
      "['Total Nacional' '01 Andalucía' '02 Aragón' '03 Asturias, Principado de'\n",
      " '04 Balears, Illes' '05 Canarias' '06 Cantabria' '07 Castilla y León'\n",
      " '08 Castilla - La Mancha' '09 Cataluña' '10 Comunitat Valenciana'\n",
      " '11 Extremadura' '12 Galicia' '13 Madrid, Comunidad de'\n",
      " '14 Murcia, Región de' '15 Navarra, Comunidad Foral de' '16 País Vasco'\n",
      " '17 Rioja, La' '18 Ceuta' '19 Melilla']\n"
     ]
    }
   ],
   "source": [
    "# 2. SALARIOS POR COMUNIDAD - CCAA disponibles\n",
    "print(\"\\n🔍 SALARIOS POR COMUNIDAD - CCAA disponibles:\")\n",
    "comunidad_col = None\n",
    "for col in salario_comunidad.columns:\n",
    "    if 'comunidad' in col.lower() or 'ccaa' in col.lower():\n",
    "        comunidad_col = col\n",
    "        break\n",
    "        \n",
    "if comunidad_col:\n",
    "    print(f\"Columna CCAA: {comunidad_col}\")\n",
    "    print(salario_comunidad[comunidad_col].unique())\n",
    "else:\n",
    "    print(\"Revisar nombres de columnas:\", list(salario_comunidad.columns))\n"
   ]
  },
  {
   "cell_type": "code",
   "execution_count": 6,
   "id": "2991c529",
   "metadata": {},
   "outputs": [
    {
     "name": "stdout",
     "output_type": "stream",
     "text": [
      "\n",
      "📅 PERÍODOS TEMPORALES DISPONIBLES:\n",
      "Salarios por Edad: [2023, 2022]\n",
      "Salarios por Comunidad: [2023, 2022]\n",
      "IPV Histórico: ['2025T1', '2024T4', '2024T3', '2024T2', '2024T1', '2023T4', '2023T3', '2023T2', '2023T1', '2022T4', '2022T3', '2022T2', '2022T1']\n",
      "Excel Idealista: [2025, 2024, 2023, 2022]\n",
      "Superficie Media: Sin datos recientes\n",
      "Tipos Interés: ['2025M03', '2025M02', '2025M01', '2024M12', '2024M11', '2024M10', '2024M09', '2024M08', '2024M07', '2024M06', '2024M05', '2024M04', '2024M03', '2024M02', '2024M01', '2023M12', '2023M11', '2023M10', '2023M09', '2023M08', '2023M07', '2023M06', '2023M05', '2023M04', '2023M03', '2023M02', '2023M01', '2022M12', '2022M11', '2022M10', '2022M09', '2022M08', '2022M07', '2022M06', '2022M05', '2022M04', '2022M03', '2022M02', '2022M01']\n"
     ]
    }
   ],
   "source": [
    "# 3. PERÍODOS TEMPORALES disponibles\n",
    "print(\"\\n📅 PERÍODOS TEMPORALES DISPONIBLES:\")\n",
    "for name, df in datasets.items():\n",
    "    periodo_col = None\n",
    "    for col in df.columns:\n",
    "        if 'periodo' in col.lower() or 'año' in col.lower() or 'fecha' in col.lower():\n",
    "            periodo_col = col\n",
    "            break\n",
    "\n",
    "    if periodo_col:\n",
    "        años_disponibles = df[periodo_col].unique()\n",
    "        años_recientes = [año for año in años_disponibles if str(año).startswith(('2022', '2023', '2024', '2025'))]\n",
    "        print(f\"{name}: {años_recientes if años_recientes else 'Sin datos recientes'}\")\n",
    "    else:\n",
    "        print(f\"{name}: No se encontró columna de período\")\n"
   ]
  },
  {
   "cell_type": "code",
   "execution_count": 5,
   "id": "6135d3ab",
   "metadata": {},
   "outputs": [
    {
     "name": "stdout",
     "output_type": "stream",
     "text": [
      "✅ Archivo Excel cargado exitosamente\n",
      "Shape: (114, 8)\n",
      "Columnas: ['Comunidades y Ciudades Autonómas', 'Precio€/m2', 'Variación mensual', 'Variación trimestral', 'Variación anual', 'Máximo histórico', 'Variación máximo', 'Año']\n",
      "\n",
      "Primeras 5 filas:\n",
      "  Comunidades y Ciudades Autonómas  Precio€/m2 Variación mensual  \\\n",
      "0                        Andalucía  2.468 €/m2             0.018   \n",
      "1                           Aragón  1.469 €/m2           - 0,2 %   \n",
      "2                         Asturias  1.538 €/m2             0.017   \n",
      "3                         Baleares  4.905 €/m2             0.014   \n",
      "4                         Canarias  3.039 €/m2             0.019   \n",
      "\n",
      "  Variación trimestral Variación anual      Máximo histórico Variación máximo  \\\n",
      "0                0.053           0.143  2.468 €/m2 mayo 2025            0,0 %   \n",
      "1                0.029           0.028   2.008 €/m2 mar 2007         - 26,8 %   \n",
      "2                0.054           0.109   1.867 €/m2 abr 2008         - 17,6 %   \n",
      "3                0.024           0.135  4.905 €/m2 mayo 2025            0,0 %   \n",
      "4                 0.04           0.182  3.039 €/m2 mayo 2025            0,0 %   \n",
      "\n",
      "    Año  \n",
      "0  2025  \n",
      "1  2025  \n",
      "2  2025  \n",
      "3  2025  \n",
      "4  2025  \n",
      "\n",
      "Tipos de datos:\n",
      "Comunidades y Ciudades Autonómas    object\n",
      "Precio€/m2                          object\n",
      "Variación mensual                   object\n",
      "Variación trimestral                object\n",
      "Variación anual                     object\n",
      "Máximo histórico                    object\n",
      "Variación máximo                    object\n",
      "Año                                  int64\n",
      "dtype: object\n",
      "\n",
      "Valores nulos por columna:\n",
      "Comunidades y Ciudades Autonómas    0\n",
      "Precio€/m2                          0\n",
      "Variación mensual                   0\n",
      "Variación trimestral                0\n",
      "Variación anual                     0\n",
      "Máximo histórico                    0\n",
      "Variación máximo                    0\n",
      "Año                                 0\n",
      "dtype: int64\n",
      "\n",
      "🗺️ VERIFICANDO CCAA DISPONIBLES:\n",
      "Columna de ubicaciones: Comunidades y Ciudades Autonómas\n",
      "Número de ubicaciones: 19\n",
      "Primeras 10 ubicaciones:\n",
      "['Andalucía' 'Aragón' 'Asturias' 'Baleares' 'Canarias' 'Cantabria'\n",
      " 'Castilla y León' 'Castilla-La Mancha' 'Cataluña' 'Ceuta']\n",
      "\n",
      "💰 VERIFICANDO PRECIOS DISPONIBLES:\n",
      "Columna de precios: Precio€/m2\n",
      "Primeros valores:\n",
      "0    2.468 €/m2\n",
      "1    1.469 €/m2\n",
      "2    1.538 €/m2\n",
      "3    4.905 €/m2\n",
      "4    3.039 €/m2\n",
      "Name: Precio€/m2, dtype: object\n"
     ]
    }
   ],
   "source": [
    "try:\n",
    "    idealista_excel = pd.read_excel(data_path / 'Copia_idealista_metros_cuadrados.xlsx')\n",
    "    \n",
    "    print(\"✅ Archivo Excel cargado exitosamente\")\n",
    "    print(f\"Shape: {idealista_excel.shape}\")\n",
    "    print(f\"Columnas: {list(idealista_excel.columns)}\")\n",
    "    \n",
    "    print(\"\\nPrimeras 5 filas:\")\n",
    "    print(idealista_excel.head())\n",
    "    \n",
    "    print(\"\\nTipos de datos:\")\n",
    "    print(idealista_excel.dtypes)\n",
    "    \n",
    "    print(\"\\nValores nulos por columna:\")\n",
    "    print(idealista_excel.isnull().sum())\n",
    "    \n",
    "     # Verificar si hay datos de CCAA\n",
    "    print(\"\\n🗺️ VERIFICANDO CCAA DISPONIBLES:\")\n",
    "    # Buscar columna que contenga nombres de lugares/CCAA\n",
    "    for col in idealista_excel.columns:\n",
    "        if any(keyword in col.lower() for keyword in ['comunidad', 'ccaa', 'localiz', 'lugar', 'region']):\n",
    "            print(f\"Columna de ubicaciones: {col}\")\n",
    "            ubicaciones = idealista_excel[col].unique()\n",
    "            print(f\"Número de ubicaciones: {len(ubicaciones)}\")\n",
    "            print(\"Primeras 10 ubicaciones:\")\n",
    "            print(ubicaciones[:10])\n",
    "            break\n",
    "    \n",
    "    # Verificar si hay datos de precios\n",
    "    print(\"\\n💰 VERIFICANDO PRECIOS DISPONIBLES:\")\n",
    "    for col in idealista_excel.columns:\n",
    "        if any(keyword in col.lower() for keyword in ['precio', 'm2', 'euro', '€']):\n",
    "            print(f\"Columna de precios: {col}\")\n",
    "            # Mostrar estadísticas básicas si es numérica\n",
    "            if idealista_excel[col].dtype in ['int64', 'float64']:\n",
    "                print(f\"Estadísticas básicas:\")\n",
    "                print(idealista_excel[col].describe())\n",
    "            else:\n",
    "                print(\"Primeros valores:\")\n",
    "                print(idealista_excel[col].head())\n",
    "            break\n",
    "    \n",
    "except FileNotFoundError:\n",
    "    print(\"❌ Error: No se encontró el archivo 'Copia_idealista_metros_cuadrados.xlsx'\")\n",
    "    print(\"Verifica que el archivo esté en la carpeta 'data/raw'\")\n",
    "except Exception as e:\n",
    "    print(f\"❌ Error al cargar el archivo: {e}\")\n"
   ]
  },
  {
   "cell_type": "markdown",
   "id": "ae767995",
   "metadata": {},
   "source": [
    "Tras este análisis exploratorio nos damos cuenta que debemos realizar una limpieza de nulos, estandarización de nombres y cambio de tipos de datos. Así como realizar unos cálculos para obtener información de años necesarios. "
   ]
  },
  {
   "cell_type": "markdown",
   "id": "a0a296e3",
   "metadata": {},
   "source": [
    "# LIMPIEZA DATASETS"
   ]
  },
  {
   "cell_type": "code",
   "execution_count": 6,
   "id": "a0bc6408",
   "metadata": {},
   "outputs": [],
   "source": [
    "# 1. LIMPIAR IDEALISTA\n",
    "#limpiar precios\n",
    "idealista_clean = idealista_excel.copy()\n"
   ]
  },
  {
   "cell_type": "code",
   "execution_count": 7,
   "id": "e90b068d",
   "metadata": {},
   "outputs": [
    {
     "name": "stdout",
     "output_type": "stream",
     "text": [
      "Precios convertidos:\n",
      "  Comunidades y Ciudades Autonómas  Precio€/m2  Precio m2\n",
      "0                        Andalucía  2.468 €/m2       2468\n",
      "1                           Aragón  1.469 €/m2       1469\n",
      "2                         Asturias  1.538 €/m2       1538\n",
      "3                         Baleares  4.905 €/m2       4905\n",
      "4                         Canarias  3.039 €/m2       3039\n"
     ]
    }
   ],
   "source": [
    "def limpiar_precio_m2(precio_texto):\n",
    "    if pd.isna(precio_texto):\n",
    "        return None\n",
    "    precio_limpio = str(precio_texto).replace('€/m2', '').replace('.', '').replace(',', '.').strip()\n",
    "    try:\n",
    "        return int(precio_limpio)\n",
    "    except:\n",
    "        return None\n",
    "\n",
    "idealista_clean['Precio m2'] = idealista_clean['Precio€/m2'].apply(limpiar_precio_m2)\n",
    "\n",
    "print(\"Precios convertidos:\")\n",
    "print(idealista_clean[['Comunidades y Ciudades Autonómas', 'Precio€/m2', 'Precio m2']].head())\n"
   ]
  },
  {
   "cell_type": "code",
   "execution_count": 8,
   "id": "bd36781a",
   "metadata": {},
   "outputs": [],
   "source": [
    "#ESTANDARIZAR NOMBRES DE CCAA\n",
    "# Mapeo para unificar nombres entre datasets\n",
    "mapeo_ccaa = {\n",
    "    'Andalucía': '01 Andalucía',\n",
    "    'Aragón': '02 Aragón', \n",
    "    'Asturias': '03 Asturias, Principado de',\n",
    "    'Baleares': '04 Balears, Illes',\n",
    "    'Canarias': '05 Canarias',\n",
    "    'Cantabria': '06 Cantabria',\n",
    "    'Castilla y León': '07 Castilla y León',\n",
    "    'Castilla-La Mancha': '08 Castilla - La Mancha',\n",
    "    'Cataluña': '09 Cataluña',\n",
    "    'Comunidad Valenciana': '10 Comunitat Valenciana',\n",
    "    'Extremadura': '11 Extremadura',\n",
    "    'Galicia': '12 Galicia',\n",
    "    'Madrid': '13 Madrid, Comunidad de',\n",
    "    'Murcia': '14 Murcia, Región de',\n",
    "    'Navarra': '15 Navarra, Comunidad Foral de',\n",
    "    'País Vasco': '16 País Vasco',\n",
    "    'La Rioja': '17 Rioja, La',\n",
    "    'Ceuta': '18 Ceuta',\n",
    "    'Melilla': '19 Melilla'\n",
    "}\n"
   ]
  },
  {
   "cell_type": "code",
   "execution_count": 9,
   "id": "c633c9c5",
   "metadata": {},
   "outputs": [],
   "source": [
    "idealista_clean['CCAA_estandarizado'] = idealista_clean['Comunidades y Ciudades Autonómas'].map(mapeo_ccaa)"
   ]
  },
  {
   "cell_type": "code",
   "execution_count": 10,
   "id": "7692b3be",
   "metadata": {},
   "outputs": [],
   "source": [
    "columnas_a_mantener_idealista = [\n",
    "    'CCAA_estandarizado', \n",
    "    'Año', \n",
    "    'Precio m2'\n",
    "]\n",
    "\n",
    "idealista_final = idealista_clean[columnas_a_mantener_idealista].copy()\n"
   ]
  },
  {
   "cell_type": "code",
   "execution_count": 11,
   "id": "47e0097a",
   "metadata": {},
   "outputs": [
    {
     "data": {
      "text/plain": [
       "Index(['Comunidades y Ciudades Autónomas', 'Año', 'Precio m2'], dtype='object')"
      ]
     },
     "execution_count": 11,
     "metadata": {},
     "output_type": "execute_result"
    }
   ],
   "source": [
    "idealista_final = idealista_final.rename(columns={\n",
    "    'CCAA_estandarizado': 'Comunidades y Ciudades Autónomas'\n",
    "})\n",
    "idealista_final.columns"
   ]
  },
  {
   "cell_type": "markdown",
   "id": "107a8417",
   "metadata": {},
   "source": [
    "EXPORT DATASET LIMPIO DE IDEALISTA\n",
    "import os\n",
    "\n",
    "Crear la carpeta data/clean si no existe\n",
    "os.makedirs('data/clean', exist_ok=True)\n",
    "\n",
    "Guardar el dataset limpio de Idealista\n",
    "idealista_final.to_csv('data/clean/idealista_clean.csv', index=False)\n",
    "\n",
    "print(\"Dataset de Idealista guardado exitosamente en data/clean/idealista_clean.csv\")\n",
    "print(f\"Forma del dataset guardado: {idealista_final.shape}\")"
   ]
  },
  {
   "cell_type": "code",
   "execution_count": 15,
   "id": "5d7e0190",
   "metadata": {},
   "outputs": [],
   "source": [
    "#IPV HISTÓRICO Y SUPERFICIE MEDIA: ELIMINAR NULOS\n",
    "superficie_media=drop_nulls(superficie_media)"
   ]
  },
  {
   "cell_type": "code",
   "execution_count": 16,
   "id": "f2208d96",
   "metadata": {},
   "outputs": [],
   "source": [
    "ipv=drop_nulls(ipv)"
   ]
  },
  {
   "cell_type": "code",
   "execution_count": 17,
   "id": "8baf177e",
   "metadata": {},
   "outputs": [],
   "source": [
    "#LIMPIEZA DATASET IPV\n",
    "# Eliminar la columna 'Total Nacional' (solo contiene 'Nacional')\n",
    "ipv_clean = ipv.drop('Total Nacional', axis=1).copy()\n",
    "\n",
    "# Renombrar columnas para mayor claridad\n",
    "ipv_clean = ipv_clean.rename(columns={\n",
    "    'General, vivienda nueva y de segunda mano': 'Tipo Vivienda',\n",
    "    'Índices y tasas': 'Tipo Indicador'\n",
    "})\n"
   ]
  },
  {
   "cell_type": "code",
   "execution_count": 18,
   "id": "4dc3a84c",
   "metadata": {},
   "outputs": [],
   "source": [
    "# Limpiar y convertir Total\n",
    "ipv_clean['Total'] = ipv_clean['Total'].str.replace(',', '.')\n",
    "ipv_clean['Total'] = ipv_clean['Total'].astype(float)"
   ]
  },
  {
   "cell_type": "code",
   "execution_count": 19,
   "id": "af34655d",
   "metadata": {},
   "outputs": [],
   "source": [
    "#LIMPIEZA DATASET SUPERFICIE MEDIA\n",
    "#ESTANDARIZAR NOMBRES DE CCAA\n",
    "# Mapeo para unificar nombres entre datasets\n",
    "mapeo_ccaa_2 = {\n",
    "    'Andalucía': '01 Andalucía',\n",
    "    'Aragón': '02 Aragón', \n",
    "    'Asturias, Principado de': '03 Asturias, Principado de',\n",
    "    'Balears, Illes': '04 Balears, Illes',\n",
    "    'Canarias': '05 Canarias',\n",
    "    'Cantabria': '06 Cantabria',\n",
    "    'Castilla y León': '07 Castilla y León',\n",
    "    'Castilla - La Mancha': '08 Castilla - La Mancha',\n",
    "    'Cataluña': '09 Cataluña',\n",
    "    'Comunitat Valenciana': '10 Comunitat Valenciana',\n",
    "    'Extremadura': '11 Extremadura',\n",
    "    'Galicia': '12 Galicia',\n",
    "    'Madrid, Comunidad de': '13 Madrid, Comunidad de',\n",
    "    'Murcia, Región de': '14 Murcia, Región de',\n",
    "    'Navarra, Comunidad Foral de': '15 Navarra, Comunidad Foral de',\n",
    "    'País Vasco': '16 País Vasco',\n",
    "    'Rioja, La': '17 Rioja, La',\n",
    "    'Ceuta': '18 Ceuta',\n",
    "    'Melilla': '19 Melilla'\n",
    "}"
   ]
  },
  {
   "cell_type": "code",
   "execution_count": 20,
   "id": "ea2741d1",
   "metadata": {},
   "outputs": [
    {
     "name": "stderr",
     "output_type": "stream",
     "text": [
      "/var/folders/4q/413qpbj17ks9bgdzl52cpx9m0000gn/T/ipykernel_1157/2539730385.py:1: SettingWithCopyWarning: \n",
      "A value is trying to be set on a copy of a slice from a DataFrame.\n",
      "Try using .loc[row_indexer,col_indexer] = value instead\n",
      "\n",
      "See the caveats in the documentation: https://pandas.pydata.org/pandas-docs/stable/user_guide/indexing.html#returning-a-view-versus-a-copy\n",
      "  superficie_media['Comunidades y Ciudades Autónomas'] = superficie_media['Comunidades y Ciudades Autónomas'].map(mapeo_ccaa_2)\n"
     ]
    }
   ],
   "source": [
    "superficie_media['Comunidades y Ciudades Autónomas'] = superficie_media['Comunidades y Ciudades Autónomas'].map(mapeo_ccaa_2)"
   ]
  },
  {
   "cell_type": "code",
   "execution_count": 21,
   "id": "b8c78540",
   "metadata": {},
   "outputs": [],
   "source": [
    "superficie_clean = superficie_media.drop('Total Nacional', axis=1).copy()\n",
    "\n",
    "# Renombrar columnas\n",
    "superficie_clean = superficie_clean.rename(columns={\n",
    "    'Superficie útil de la vivienda': 'Superficie Util',\n",
    "    'Tamaño del hogar': 'Tamaño Hogar',\n",
    "    'periodo': 'Año'\n",
    "})"
   ]
  },
  {
   "cell_type": "code",
   "execution_count": 22,
   "id": "6f359d3c",
   "metadata": {},
   "outputs": [],
   "source": [
    "# Limpiar y convertir Total\n",
    "# Eliminar puntos de miles -  Reemplazar la coma decimal por punto\n",
    "# Quitar filas donde 'Total' está vacío o solo contiene espacios\n",
    "superficie_clean['Total'] = superficie_clean['Total'].str.replace('.', '', regex=False)\n",
    "superficie_clean['Total'] = superficie_clean['Total'].str.replace(',', '.', regex=False)\n",
    "superficie_clean['Total'] = pd.to_numeric(superficie_clean['Total'], errors='coerce')\n",
    "superficie_clean = superficie_clean.dropna(subset=['Total'])"
   ]
  },
  {
   "cell_type": "markdown",
   "id": "c1dcf7d7",
   "metadata": {},
   "source": [
    "EXPORTAMOS LOS DOS CSVS LIMPIOS \n",
    "import os\n",
    "os.makedirs('data/clean', exist_ok=True)\n",
    "superficie_clean.to_csv('data/clean/superficie_clean.csv', index=False)\n",
    "ipv_clean.to_csv('data/clean/ipv_clean.csv', index=False)"
   ]
  },
  {
   "cell_type": "markdown",
   "id": "2e330777",
   "metadata": {},
   "source": [
    "idealista_final superficie_clean y ipv_clean son los datasets limpios para trabajar en ellos "
   ]
  },
  {
   "cell_type": "code",
   "execution_count": 37,
   "id": "e7863698",
   "metadata": {},
   "outputs": [
    {
     "name": "stdout",
     "output_type": "stream",
     "text": [
      "\n",
      "Shape: (1170, 4)\n",
      "\n",
      "Info:\n",
      "<class 'pandas.core.frame.DataFrame'>\n",
      "RangeIndex: 1170 entries, 0 to 1169\n",
      "Data columns (total 4 columns):\n",
      " #   Column                  Non-Null Count  Dtype \n",
      "---  ------                  --------------  ----- \n",
      " 0   Tipo de interés         1170 non-null   object\n",
      " 1   Naturaleza de la finca  1170 non-null   object\n",
      " 2   Periodo                 1170 non-null   object\n",
      " 3   Total                   1170 non-null   object\n",
      "dtypes: object(4)\n",
      "memory usage: 36.7+ KB\n",
      "None\n",
      "\n",
      "Tipos de datos:\n",
      "Tipo de interés           object\n",
      "Naturaleza de la finca    object\n",
      "Periodo                   object\n",
      "Total                     object\n",
      "dtype: object\n"
     ]
    }
   ],
   "source": [
    "overview(interes_fijo)"
   ]
  },
  {
   "cell_type": "code",
   "execution_count": 38,
   "id": "9ee4d0f6",
   "metadata": {},
   "outputs": [
    {
     "name": "stdout",
     "output_type": "stream",
     "text": [
      "\n",
      "Shape: (11880, 5)\n",
      "\n",
      "Info:\n",
      "<class 'pandas.core.frame.DataFrame'>\n",
      "RangeIndex: 11880 entries, 0 to 11879\n",
      "Data columns (total 5 columns):\n",
      " #   Column                            Non-Null Count  Dtype \n",
      "---  ------                            --------------  ----- \n",
      " 0   Tipo de jornada                   11880 non-null  object\n",
      " 1   Comunidades y Ciudades Autonómas  11880 non-null  object\n",
      " 2   Decil                             11880 non-null  object\n",
      " 3   Periodo                           11880 non-null  int64 \n",
      " 4   Total                             11880 non-null  object\n",
      "dtypes: int64(1), object(4)\n",
      "memory usage: 464.2+ KB\n",
      "None\n",
      "\n",
      "Tipos de datos:\n",
      "Tipo de jornada                     object\n",
      "Comunidades y Ciudades Autonómas    object\n",
      "Decil                               object\n",
      "Periodo                              int64\n",
      "Total                               object\n",
      "dtype: object\n"
     ]
    }
   ],
   "source": [
    "overview(salario_comunidad)"
   ]
  },
  {
   "cell_type": "code",
   "execution_count": null,
   "id": "5db1bc89",
   "metadata": {},
   "outputs": [
    {
     "name": "stdout",
     "output_type": "stream",
     "text": [
      "\n",
      "Shape: (3564, 5)\n",
      "\n",
      "Info:\n",
      "<class 'pandas.core.frame.DataFrame'>\n",
      "RangeIndex: 3564 entries, 0 to 3563\n",
      "Data columns (total 5 columns):\n",
      " #   Column           Non-Null Count  Dtype \n",
      "---  ------           --------------  ----- \n",
      " 0   Tipo de jornada  3564 non-null   object\n",
      " 1   Grupo de edad    3564 non-null   object\n",
      " 2   Decil            3564 non-null   object\n",
      " 3   Periodo          3564 non-null   int64 \n",
      " 4   Total            3564 non-null   object\n",
      "dtypes: int64(1), object(4)\n",
      "memory usage: 139.3+ KB\n",
      "None\n",
      "\n",
      "Tipos de datos:\n",
      "Tipo de jornada    object\n",
      "Grupo de edad      object\n",
      "Decil              object\n",
      "Periodo             int64\n",
      "Total              object\n",
      "dtype: object\n"
     ]
    }
   ],
   "source": [
    "overview(salario_edad)"
   ]
  },
  {
   "cell_type": "code",
   "execution_count": 57,
   "id": "40361f89",
   "metadata": {},
   "outputs": [
    {
     "ename": "NameError",
     "evalue": "name 'limpiar_columna_total' is not defined",
     "output_type": "error",
     "traceback": [
      "\u001b[0;31m---------------------------------------------------------------------------\u001b[0m",
      "\u001b[0;31mNameError\u001b[0m                                 Traceback (most recent call last)",
      "Cell \u001b[0;32mIn[57], line 1\u001b[0m\n\u001b[0;32m----> 1\u001b[0m salario_comunidad \u001b[38;5;241m=\u001b[39m limpiar_columna_total(salario_comunidad)\n\u001b[1;32m      2\u001b[0m salario_edad \u001b[38;5;241m=\u001b[39m limpiar_columna_total(salario_edad)\n\u001b[1;32m      3\u001b[0m interes_fijo \u001b[38;5;241m=\u001b[39m limpiar_columna_total(interes_fijo)\n",
      "\u001b[0;31mNameError\u001b[0m: name 'limpiar_columna_total' is not defined"
     ]
    }
   ],
   "source": [
    "salario_comunidad = limpiar_columna_total(salario_comunidad)\n",
    "salario_edad = limpiar_columna_total(salario_edad)\n",
    "interes_fijo = limpiar_columna_total(interes_fijo)"
   ]
  },
  {
   "cell_type": "code",
   "execution_count": 49,
   "id": "50cec569",
   "metadata": {},
   "outputs": [],
   "source": [
    "#LIMPIEZA SALARIO POR COMUNIDAD\n",
    "# Eliminar puntos de miles y reemplazar comas decimales\n",
    "salario_comunidad['Total'] = salario_comunidad['Total'].str.replace('.', '', regex=False)\n",
    "salario_comunidad['Total'] = salario_comunidad['Total'].str.replace(',', '.', regex=False)\n",
    "\n",
    "# Convertir a float y eliminar vacíos si quedan\n",
    "salario_comunidad['Total'] = pd.to_numeric(salario_comunidad['Total'], errors='coerce')\n",
    "salario_comunidad = salario_comunidad.dropna(subset=['Total'])"
   ]
  },
  {
   "cell_type": "code",
   "execution_count": 50,
   "id": "c5c375fd",
   "metadata": {},
   "outputs": [],
   "source": [
    "#LIMPIEZA SALARIO POR EDAD\n",
    "salario_edad['Total'] = salario_edad['Total'].str.replace('.', '', regex=False)\n",
    "salario_edad['Total'] = salario_edad['Total'].str.replace(',', '.', regex=False)\n",
    "\n",
    "salario_edad['Total'] = pd.to_numeric(salario_edad['Total'], errors='coerce')\n",
    "salario_edad = salario_edad.dropna(subset=['Total'])"
   ]
  },
  {
   "cell_type": "code",
   "execution_count": null,
   "id": "ac9262c7",
   "metadata": {},
   "outputs": [],
   "source": [
    "#LIMPIEZA INTERES FIJO \n",
    "interes_fijo['Total'] = interes_fijo['Total'].str.replace('.', '', regex=False)\n",
    "interes_fijo['Total'] = interes_fijo['Total'].str.replace(',', '.', regex=False)\n",
    "\n",
    "interes_fijo['Total'] = pd.to_numeric(interes_fijo['Total'], errors='coerce')\n",
    "interes_fijo = interes_fijo.dropna(subset=['Total'])\n",
    "\n",
    "#Elegir Naturaleza de la finca == 'Vivienda' es mejor que 'Total'\n"
   ]
  }
 ],
 "metadata": {
  "kernelspec": {
   "display_name": "base",
   "language": "python",
   "name": "python3"
  },
  "language_info": {
   "codemirror_mode": {
    "name": "ipython",
    "version": 3
   },
   "file_extension": ".py",
   "mimetype": "text/x-python",
   "name": "python",
   "nbconvert_exporter": "python",
   "pygments_lexer": "ipython3",
   "version": "3.12.7"
  }
 },
 "nbformat": 4,
 "nbformat_minor": 5
}
