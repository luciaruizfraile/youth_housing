{
 "cells": [
  {
   "cell_type": "code",
   "execution_count": 1,
   "id": "07009004",
   "metadata": {},
   "outputs": [],
   "source": [
    "import pandas as pd\n",
    "\n",
    "# Cargar los archivos\n",
    "df_mensual = pd.read_csv(\"../data/clean/interes_fijo.csv\")  # contiene 'Periodo' como '2025M3'\n",
    "df_trimestral = pd.read_csv(\"../data/clean/ipv_stnd.csv\")        # contiene 'Periodo' como '2025T1'\n",
    "\n",
    "# ----------- Procesar periodos mensuales -----------\n",
    "periodos_mes = df_mensual[\"Periodo\"].dropna().unique()\n",
    "dim_tiempo = []\n",
    "\n",
    "for p in periodos_mes:\n",
    "    anio = int(p[:4])\n",
    "    mes = int(p.split(\"M\")[1])\n",
    "    fecha = pd.Timestamp(year=anio, month=mes, day=1)\n",
    "    trimestre = f\"T{((mes - 1) // 3) + 1}\"\n",
    "    dim_tiempo.append({\n",
    "        \"periodo_mes\": p,\n",
    "        \"periodo_trimestre\": f\"{anio}{trimestre}\",\n",
    "        \"fecha\": fecha,\n",
    "        \"anio\": anio,\n",
    "        \"mes\": mes,\n",
    "        \"trimestre\": trimestre\n",
    "    })\n",
    "\n",
    "# ----------- Procesar periodos trimestrales -----------\n",
    "periodos_trim = df_trimestral[\"Periodo\"].dropna().unique()\n",
    "\n",
    "for p in periodos_trim:\n",
    "    anio = int(p[:4])\n",
    "    trimestre = p[-1]\n",
    "    mes_inicio = {\"1\": 1, \"2\": 4, \"3\": 7, \"4\": 10}.get(trimestre)\n",
    "    fecha = pd.Timestamp(year=anio, month=mes_inicio, day=1)\n",
    "    if not any(d[\"periodo_trimestre\"] == p for d in dim_tiempo):\n",
    "        dim_tiempo.append({\n",
    "            \"periodo_mes\": None,\n",
    "            \"periodo_trimestre\": p,\n",
    "            \"fecha\": fecha,\n",
    "            \"anio\": anio,\n",
    "            \"mes\": mes_inicio,\n",
    "            \"trimestre\": f\"T{trimestre}\"\n",
    "        })\n",
    "\n",
    "# Convertir a DataFrame y guardar como CSV\n",
    "df_dim_tiempo = pd.DataFrame(dim_tiempo).sort_values(by=\"fecha\").reset_index(drop=True)\n",
    "df_dim_tiempo.to_csv(\"../data/clean/dim_tiempo.csv\", index=False)\n"
   ]
  },
  {
   "cell_type": "code",
   "execution_count": 3,
   "id": "183b1f14",
   "metadata": {},
   "outputs": [],
   "source": [
    "# Cargar los archivos con información de comunidades y jornadas\n",
    "df_salario_comunidad = pd.read_csv(\"../data/clean/salario_ccaa.csv\")\n",
    "df_salario_edad = pd.read_csv(\"../data/clean/salario_edad.csv\")\n",
    "\n",
    "# ----------- dim_comunidades -----------\n",
    "comunidades = df_salario_comunidad[\"Comunidades y Ciudades Autónomas\"].dropna().unique()\n",
    "df_dim_comunidades = pd.DataFrame(sorted(comunidades), columns=[\"comunidad_autonoma\"])\n",
    "df_dim_comunidades.to_csv(\"../data/clean/dim_comunidades.csv\", index=False)\n",
    "\n",
    "# ----------- dim_jornada -----------\n",
    "jornada_1 = df_salario_comunidad[\"Tipo de jornada\"].dropna().unique()\n",
    "jornada_2 = df_salario_edad[\"Tipo de jornada\"].dropna().unique()\n",
    "jornadas = sorted(set(jornada_1) | set(jornada_2))\n",
    "df_dim_jornada = pd.DataFrame(jornadas, columns=[\"tipo_jornada\"])\n",
    "df_dim_jornada.to_csv(\"../data/clean/dim_jornada.csv\", index=False)\n"
   ]
  }
 ],
 "metadata": {
  "kernelspec": {
   "display_name": "base",
   "language": "python",
   "name": "python3"
  },
  "language_info": {
   "codemirror_mode": {
    "name": "ipython",
    "version": 3
   },
   "file_extension": ".py",
   "mimetype": "text/x-python",
   "name": "python",
   "nbconvert_exporter": "python",
   "pygments_lexer": "ipython3",
   "version": "3.12.7"
  }
 },
 "nbformat": 4,
 "nbformat_minor": 5
}
