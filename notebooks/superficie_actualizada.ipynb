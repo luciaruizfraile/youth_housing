{
 "cells": [
  {
   "cell_type": "markdown",
   "id": "c645edca",
   "metadata": {},
   "source": [
    "El csv de superficie no estaba actualizado. tras ver que la superficie media por ccaa en los últimos años no ha variado a penas pues vamos a coger la del 2020 como referencia y de ahí calcularemos las del 2021 al 2025. \n",
    "\n",
    "Creando un csv con todos los años actualizados. "
   ]
  },
  {
   "cell_type": "code",
   "execution_count": 1,
   "id": "8ee6d38a",
   "metadata": {},
   "outputs": [],
   "source": [
    "import pandas as pd\n",
    "\n",
    "# Cargar el archivo original\n",
    "df = pd.read_csv(\"../data/clean/superficie_sql.csv\")\n",
    "\n",
    "# Filtrar solo los datos del año 2020\n",
    "df_2020 = df[df['año'] == 2020].copy()\n"
   ]
  },
  {
   "cell_type": "code",
   "execution_count": 2,
   "id": "98491ae7",
   "metadata": {},
   "outputs": [
    {
     "name": "stdout",
     "output_type": "stream",
     "text": [
      "✅ CSV 'superficie_extendida.csv' creado correctamente.\n"
     ]
    }
   ],
   "source": [
    "# Generar datos proyectados para 2021–2025 basados en 2020\n",
    "df_extend = pd.concat([\n",
    "    df_2020.assign(año=year, estimado=True) for year in range(2021, 2026)\n",
    "], ignore_index=True)\n",
    "\n",
    "# Marcar los datos originales como no estimados\n",
    "df['estimado'] = False\n",
    "\n",
    "# Unir datos reales + estimados\n",
    "df_final = pd.concat([df, df_extend], ignore_index=True)\n",
    "\n",
    "# Guardar como nuevo CSV\n",
    "df_final.to_csv(\"../data/clean/superficie_extendida.csv\", index=False)\n",
    "\n",
    "print(\"✅ CSV 'superficie_extendida.csv' creado correctamente.\")"
   ]
  }
 ],
 "metadata": {
  "kernelspec": {
   "display_name": "base",
   "language": "python",
   "name": "python3"
  },
  "language_info": {
   "codemirror_mode": {
    "name": "ipython",
    "version": 3
   },
   "file_extension": ".py",
   "mimetype": "text/x-python",
   "name": "python",
   "nbconvert_exporter": "python",
   "pygments_lexer": "ipython3",
   "version": "3.12.7"
  }
 },
 "nbformat": 4,
 "nbformat_minor": 5
}
